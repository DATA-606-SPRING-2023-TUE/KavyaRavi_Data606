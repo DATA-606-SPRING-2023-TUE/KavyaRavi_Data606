{
 "cells": [
  {
   "cell_type": "code",
   "execution_count": 1,
   "id": "2ef5e0b6",
   "metadata": {
    "execution": {
     "iopub.execute_input": "2023-01-21T21:02:05.727298Z",
     "iopub.status.busy": "2023-01-21T21:02:05.726694Z",
     "iopub.status.idle": "2023-01-21T21:02:07.040134Z",
     "shell.execute_reply": "2023-01-21T21:02:07.039143Z"
    },
    "id": "qdN9DWO_3wfF",
    "papermill": {
     "duration": 1.33643,
     "end_time": "2023-01-21T21:02:07.042907",
     "exception": false,
     "start_time": "2023-01-21T21:02:05.706477",
     "status": "completed"
    },
    "tags": []
   },
   "outputs": [],
   "source": [
    "#Importing all necessary libraries here\n",
    "import pandas as pd\n",
    "import numpy as np\n",
    "import seaborn as sns\n",
    "import matplotlib.pyplot as plt\n",
    "from sklearn.impute import KNNImputer\n",
    "from sklearn.preprocessing import StandardScaler\n",
    "from sklearn.model_selection import cross_val_score , train_test_split , RandomizedSearchCV , GridSearchCV\n",
    "from sklearn.metrics import classification_report\n",
    "from scipy import stats"
   ]
  },
  {
   "cell_type": "code",
   "execution_count": 31,
   "id": "955bc06e",
   "metadata": {
    "execution": {
     "iopub.execute_input": "2023-01-21T21:02:07.078956Z",
     "iopub.status.busy": "2023-01-21T21:02:07.078534Z",
     "iopub.status.idle": "2023-01-21T21:02:07.098218Z",
     "shell.execute_reply": "2023-01-21T21:02:07.097051Z"
    },
    "id": "NgfLpm8v4BrS",
    "papermill": {
     "duration": 0.040488,
     "end_time": "2023-01-21T21:02:07.100806",
     "exception": false,
     "start_time": "2023-01-21T21:02:07.060318",
     "status": "completed"
    },
    "tags": []
   },
   "outputs": [
    {
     "data": {
      "text/html": [
       "<div>\n",
       "<style scoped>\n",
       "    .dataframe tbody tr th:only-of-type {\n",
       "        vertical-align: middle;\n",
       "    }\n",
       "\n",
       "    .dataframe tbody tr th {\n",
       "        vertical-align: top;\n",
       "    }\n",
       "\n",
       "    .dataframe thead th {\n",
       "        text-align: right;\n",
       "    }\n",
       "</style>\n",
       "<table border=\"1\" class=\"dataframe\">\n",
       "  <thead>\n",
       "    <tr style=\"text-align: right;\">\n",
       "      <th></th>\n",
       "      <th>Pregnancies</th>\n",
       "      <th>Glucose</th>\n",
       "      <th>BloodPressure</th>\n",
       "      <th>SkinThickness</th>\n",
       "      <th>Insulin</th>\n",
       "      <th>BMI</th>\n",
       "      <th>DiabetesPedigreeFunction</th>\n",
       "      <th>Age</th>\n",
       "      <th>Outcome</th>\n",
       "    </tr>\n",
       "  </thead>\n",
       "  <tbody>\n",
       "    <tr>\n",
       "      <th>0</th>\n",
       "      <td>6</td>\n",
       "      <td>148</td>\n",
       "      <td>72</td>\n",
       "      <td>35</td>\n",
       "      <td>0</td>\n",
       "      <td>33.6</td>\n",
       "      <td>0.627</td>\n",
       "      <td>50</td>\n",
       "      <td>1</td>\n",
       "    </tr>\n",
       "    <tr>\n",
       "      <th>1</th>\n",
       "      <td>1</td>\n",
       "      <td>85</td>\n",
       "      <td>66</td>\n",
       "      <td>29</td>\n",
       "      <td>0</td>\n",
       "      <td>26.6</td>\n",
       "      <td>0.351</td>\n",
       "      <td>31</td>\n",
       "      <td>0</td>\n",
       "    </tr>\n",
       "    <tr>\n",
       "      <th>2</th>\n",
       "      <td>8</td>\n",
       "      <td>183</td>\n",
       "      <td>64</td>\n",
       "      <td>0</td>\n",
       "      <td>0</td>\n",
       "      <td>23.3</td>\n",
       "      <td>0.672</td>\n",
       "      <td>32</td>\n",
       "      <td>1</td>\n",
       "    </tr>\n",
       "    <tr>\n",
       "      <th>3</th>\n",
       "      <td>1</td>\n",
       "      <td>89</td>\n",
       "      <td>66</td>\n",
       "      <td>23</td>\n",
       "      <td>94</td>\n",
       "      <td>28.1</td>\n",
       "      <td>0.167</td>\n",
       "      <td>21</td>\n",
       "      <td>0</td>\n",
       "    </tr>\n",
       "    <tr>\n",
       "      <th>4</th>\n",
       "      <td>0</td>\n",
       "      <td>137</td>\n",
       "      <td>40</td>\n",
       "      <td>35</td>\n",
       "      <td>168</td>\n",
       "      <td>43.1</td>\n",
       "      <td>2.288</td>\n",
       "      <td>33</td>\n",
       "      <td>1</td>\n",
       "    </tr>\n",
       "  </tbody>\n",
       "</table>\n",
       "</div>"
      ],
      "text/plain": [
       "   Pregnancies  Glucose  BloodPressure  SkinThickness  Insulin   BMI  \\\n",
       "0            6      148             72             35        0  33.6   \n",
       "1            1       85             66             29        0  26.6   \n",
       "2            8      183             64              0        0  23.3   \n",
       "3            1       89             66             23       94  28.1   \n",
       "4            0      137             40             35      168  43.1   \n",
       "\n",
       "   DiabetesPedigreeFunction  Age  Outcome  \n",
       "0                     0.627   50        1  \n",
       "1                     0.351   31        0  \n",
       "2                     0.672   32        1  \n",
       "3                     0.167   21        0  \n",
       "4                     2.288   33        1  "
      ]
     },
     "execution_count": 31,
     "metadata": {},
     "output_type": "execute_result"
    }
   ],
   "source": [
    "#Importing Dataset\n",
    "data = pd.read_csv('https://raw.githubusercontent.com/OmkarKatkade/NLP-data/main/diabetes.csv')\n",
    "data.head()"
   ]
  },
  {
   "cell_type": "code",
   "execution_count": 4,
   "id": "bdc60be4",
   "metadata": {
    "execution": {
     "iopub.execute_input": "2023-01-21T21:02:07.198720Z",
     "iopub.status.busy": "2023-01-21T21:02:07.198315Z",
     "iopub.status.idle": "2023-01-21T21:02:07.207703Z",
     "shell.execute_reply": "2023-01-21T21:02:07.206623Z"
    },
    "id": "HEerAgDK4TYr",
    "outputId": "a01985ac-4419-4dea-b3a8-f2bf5e3bcdb5",
    "papermill": {
     "duration": 0.030398,
     "end_time": "2023-01-21T21:02:07.210200",
     "exception": false,
     "start_time": "2023-01-21T21:02:07.179802",
     "status": "completed"
    },
    "tags": []
   },
   "outputs": [
    {
     "data": {
      "text/plain": [
       "Pregnancies                 0\n",
       "Glucose                     0\n",
       "BloodPressure               0\n",
       "SkinThickness               0\n",
       "Insulin                     0\n",
       "BMI                         0\n",
       "DiabetesPedigreeFunction    0\n",
       "Age                         0\n",
       "Outcome                     0\n",
       "dtype: int64"
      ]
     },
     "execution_count": 4,
     "metadata": {},
     "output_type": "execute_result"
    }
   ],
   "source": [
    "#Checking for null values\n",
    "data.isnull().sum()"
   ]
  },
  {
   "cell_type": "code",
   "execution_count": 6,
   "id": "d428f489",
   "metadata": {
    "execution": {
     "iopub.execute_input": "2023-01-21T21:02:07.312068Z",
     "iopub.status.busy": "2023-01-21T21:02:07.311040Z",
     "iopub.status.idle": "2023-01-21T21:02:07.353557Z",
     "shell.execute_reply": "2023-01-21T21:02:07.352485Z"
    },
    "id": "d6JfaGfjXdbs",
    "outputId": "cbb9a17e-458e-4714-e191-953036451b37",
    "papermill": {
     "duration": 0.063955,
     "end_time": "2023-01-21T21:02:07.356199",
     "exception": false,
     "start_time": "2023-01-21T21:02:07.292244",
     "status": "completed"
    },
    "tags": []
   },
   "outputs": [
    {
     "data": {
      "text/html": [
       "<div>\n",
       "<style scoped>\n",
       "    .dataframe tbody tr th:only-of-type {\n",
       "        vertical-align: middle;\n",
       "    }\n",
       "\n",
       "    .dataframe tbody tr th {\n",
       "        vertical-align: top;\n",
       "    }\n",
       "\n",
       "    .dataframe thead th {\n",
       "        text-align: right;\n",
       "    }\n",
       "</style>\n",
       "<table border=\"1\" class=\"dataframe\">\n",
       "  <thead>\n",
       "    <tr style=\"text-align: right;\">\n",
       "      <th></th>\n",
       "      <th>Pregnancies</th>\n",
       "      <th>Glucose</th>\n",
       "      <th>BloodPressure</th>\n",
       "      <th>SkinThickness</th>\n",
       "      <th>Insulin</th>\n",
       "      <th>BMI</th>\n",
       "      <th>DiabetesPedigreeFunction</th>\n",
       "      <th>Age</th>\n",
       "      <th>Outcome</th>\n",
       "    </tr>\n",
       "  </thead>\n",
       "  <tbody>\n",
       "    <tr>\n",
       "      <th>count</th>\n",
       "      <td>768.000000</td>\n",
       "      <td>768.000000</td>\n",
       "      <td>768.000000</td>\n",
       "      <td>768.000000</td>\n",
       "      <td>768.000000</td>\n",
       "      <td>768.000000</td>\n",
       "      <td>768.000000</td>\n",
       "      <td>768.000000</td>\n",
       "      <td>768.000000</td>\n",
       "    </tr>\n",
       "    <tr>\n",
       "      <th>mean</th>\n",
       "      <td>3.845052</td>\n",
       "      <td>120.894531</td>\n",
       "      <td>69.105469</td>\n",
       "      <td>20.536458</td>\n",
       "      <td>79.799479</td>\n",
       "      <td>31.992578</td>\n",
       "      <td>0.471876</td>\n",
       "      <td>33.240885</td>\n",
       "      <td>0.348958</td>\n",
       "    </tr>\n",
       "    <tr>\n",
       "      <th>std</th>\n",
       "      <td>3.369578</td>\n",
       "      <td>31.972618</td>\n",
       "      <td>19.355807</td>\n",
       "      <td>15.952218</td>\n",
       "      <td>115.244002</td>\n",
       "      <td>7.884160</td>\n",
       "      <td>0.331329</td>\n",
       "      <td>11.760232</td>\n",
       "      <td>0.476951</td>\n",
       "    </tr>\n",
       "    <tr>\n",
       "      <th>min</th>\n",
       "      <td>0.000000</td>\n",
       "      <td>0.000000</td>\n",
       "      <td>0.000000</td>\n",
       "      <td>0.000000</td>\n",
       "      <td>0.000000</td>\n",
       "      <td>0.000000</td>\n",
       "      <td>0.078000</td>\n",
       "      <td>21.000000</td>\n",
       "      <td>0.000000</td>\n",
       "    </tr>\n",
       "    <tr>\n",
       "      <th>25%</th>\n",
       "      <td>1.000000</td>\n",
       "      <td>99.000000</td>\n",
       "      <td>62.000000</td>\n",
       "      <td>0.000000</td>\n",
       "      <td>0.000000</td>\n",
       "      <td>27.300000</td>\n",
       "      <td>0.243750</td>\n",
       "      <td>24.000000</td>\n",
       "      <td>0.000000</td>\n",
       "    </tr>\n",
       "    <tr>\n",
       "      <th>50%</th>\n",
       "      <td>3.000000</td>\n",
       "      <td>117.000000</td>\n",
       "      <td>72.000000</td>\n",
       "      <td>23.000000</td>\n",
       "      <td>30.500000</td>\n",
       "      <td>32.000000</td>\n",
       "      <td>0.372500</td>\n",
       "      <td>29.000000</td>\n",
       "      <td>0.000000</td>\n",
       "    </tr>\n",
       "    <tr>\n",
       "      <th>75%</th>\n",
       "      <td>6.000000</td>\n",
       "      <td>140.250000</td>\n",
       "      <td>80.000000</td>\n",
       "      <td>32.000000</td>\n",
       "      <td>127.250000</td>\n",
       "      <td>36.600000</td>\n",
       "      <td>0.626250</td>\n",
       "      <td>41.000000</td>\n",
       "      <td>1.000000</td>\n",
       "    </tr>\n",
       "    <tr>\n",
       "      <th>max</th>\n",
       "      <td>17.000000</td>\n",
       "      <td>199.000000</td>\n",
       "      <td>122.000000</td>\n",
       "      <td>99.000000</td>\n",
       "      <td>846.000000</td>\n",
       "      <td>67.100000</td>\n",
       "      <td>2.420000</td>\n",
       "      <td>81.000000</td>\n",
       "      <td>1.000000</td>\n",
       "    </tr>\n",
       "  </tbody>\n",
       "</table>\n",
       "</div>"
      ],
      "text/plain": [
       "       Pregnancies     Glucose  BloodPressure  SkinThickness     Insulin  \\\n",
       "count   768.000000  768.000000     768.000000     768.000000  768.000000   \n",
       "mean      3.845052  120.894531      69.105469      20.536458   79.799479   \n",
       "std       3.369578   31.972618      19.355807      15.952218  115.244002   \n",
       "min       0.000000    0.000000       0.000000       0.000000    0.000000   \n",
       "25%       1.000000   99.000000      62.000000       0.000000    0.000000   \n",
       "50%       3.000000  117.000000      72.000000      23.000000   30.500000   \n",
       "75%       6.000000  140.250000      80.000000      32.000000  127.250000   \n",
       "max      17.000000  199.000000     122.000000      99.000000  846.000000   \n",
       "\n",
       "              BMI  DiabetesPedigreeFunction         Age     Outcome  \n",
       "count  768.000000                768.000000  768.000000  768.000000  \n",
       "mean    31.992578                  0.471876   33.240885    0.348958  \n",
       "std      7.884160                  0.331329   11.760232    0.476951  \n",
       "min      0.000000                  0.078000   21.000000    0.000000  \n",
       "25%     27.300000                  0.243750   24.000000    0.000000  \n",
       "50%     32.000000                  0.372500   29.000000    0.000000  \n",
       "75%     36.600000                  0.626250   41.000000    1.000000  \n",
       "max     67.100000                  2.420000   81.000000    1.000000  "
      ]
     },
     "execution_count": 6,
     "metadata": {},
     "output_type": "execute_result"
    }
   ],
   "source": [
    "#Getting description of the dataset\n",
    "data.describe()"
   ]
  },
  {
   "cell_type": "markdown",
   "id": "b3de83c1",
   "metadata": {
    "id": "YPEpPeuz314n",
    "papermill": {
     "duration": 0.016884,
     "end_time": "2023-01-21T21:02:07.390992",
     "exception": false,
     "start_time": "2023-01-21T21:02:07.374108",
     "status": "completed"
    },
    "tags": []
   },
   "source": [
    "# EDA and Outlier Detection"
   ]
  },
  {
   "cell_type": "markdown",
   "id": "50403f3f",
   "metadata": {
    "id": "WMeGsaLWdtwB",
    "papermill": {
     "duration": 0.017534,
     "end_time": "2023-01-21T21:02:07.425677",
     "exception": false,
     "start_time": "2023-01-21T21:02:07.408143",
     "status": "completed"
    },
    "tags": []
   },
   "source": [
    "**For the attribute 'Pregnancies'**"
   ]
  },
  {
   "cell_type": "code",
   "execution_count": 36,
   "id": "23bede39",
   "metadata": {
    "execution": {
     "iopub.execute_input": "2023-01-21T21:02:07.461379Z",
     "iopub.status.busy": "2023-01-21T21:02:07.460997Z",
     "iopub.status.idle": "2023-01-21T21:02:07.744534Z",
     "shell.execute_reply": "2023-01-21T21:02:07.743464Z"
    },
    "id": "4ytwb5VfSdCW",
    "outputId": "eb28234a-72c1-461b-a9b8-fb7d5bea090d",
    "papermill": {
     "duration": 0.304379,
     "end_time": "2023-01-21T21:02:07.746993",
     "exception": false,
     "start_time": "2023-01-21T21:02:07.442614",
     "status": "completed"
    },
    "tags": []
   },
   "outputs": [
    {
     "data": {
      "image/png": "[encoded data removed]",
      "text/plain": [
       "<Figure size 432x288 with 1 Axes>"
      ]
     },
     "metadata": {
      "needs_background": "light"
     },
     "output_type": "display_data"
    }
   ],
   "source": [
    "sns.histplot(x=data['Pregnancies'])\n",
    "plt.show()"
   ]
  },
  {
   "cell_type": "code",
   "execution_count": 35,
   "id": "0ce4fa3f",
   "metadata": {
    "execution": {
     "iopub.execute_input": "2023-01-21T21:02:07.783943Z",
     "iopub.status.busy": "2023-01-21T21:02:07.783132Z",
     "iopub.status.idle": "2023-01-21T21:02:07.973596Z",
     "shell.execute_reply": "2023-01-21T21:02:07.972659Z"
    },
    "id": "aA_U69PWdx7w",
    "outputId": "8ed3cbb2-f1e3-4f58-a9eb-886cd1c5210f",
    "papermill": {
     "duration": 0.211434,
     "end_time": "2023-01-21T21:02:07.976163",
     "exception": false,
     "start_time": "2023-01-21T21:02:07.764729",
     "status": "completed"
    },
    "tags": []
   },
   "outputs": [
    {
     "data": {
      "image/png": "[encoded data removed]",
      "text/plain": [
       "<Figure size 432x288 with 1 Axes>"
      ]
     },
     "metadata": {
      "needs_background": "light"
     },
     "output_type": "display_data"
    }
   ],
   "source": [
    "sns.boxplot(x=data['Pregnancies'])\n",
    "plt.show()"
   ]
  },
  {
   "cell_type": "code",
   "execution_count": 38,
   "id": "ca165cc0",
   "metadata": {
    "execution": {
     "iopub.execute_input": "2023-01-21T21:02:08.013313Z",
     "iopub.status.busy": "2023-01-21T21:02:08.012932Z",
     "iopub.status.idle": "2023-01-21T21:02:08.026956Z",
     "shell.execute_reply": "2023-01-21T21:02:08.025934Z"
    },
    "id": "qHxSw_2meMNQ",
    "outputId": "be15af63-4139-4418-99bf-27dd9d7dc2af",
    "papermill": {
     "duration": 0.035249,
     "end_time": "2023-01-21T21:02:08.029355",
     "exception": false,
     "start_time": "2023-01-21T21:02:07.994106",
     "status": "completed"
    },
    "tags": []
   },
   "outputs": [
    {
     "data": {
      "text/html": [
       "<div>\n",
       "<style scoped>\n",
       "    .dataframe tbody tr th:only-of-type {\n",
       "        vertical-align: middle;\n",
       "    }\n",
       "\n",
       "    .dataframe tbody tr th {\n",
       "        vertical-align: top;\n",
       "    }\n",
       "\n",
       "    .dataframe thead th {\n",
       "        text-align: right;\n",
       "    }\n",
       "</style>\n",
       "<table border=\"1\" class=\"dataframe\">\n",
       "  <thead>\n",
       "    <tr style=\"text-align: right;\">\n",
       "      <th></th>\n",
       "      <th>Pregnancies</th>\n",
       "      <th>Glucose</th>\n",
       "      <th>BloodPressure</th>\n",
       "      <th>SkinThickness</th>\n",
       "      <th>Insulin</th>\n",
       "      <th>BMI</th>\n",
       "      <th>DiabetesPedigreeFunction</th>\n",
       "      <th>Age</th>\n",
       "      <th>Outcome</th>\n",
       "    </tr>\n",
       "  </thead>\n",
       "  <tbody>\n",
       "    <tr>\n",
       "      <th>88</th>\n",
       "      <td>15</td>\n",
       "      <td>136</td>\n",
       "      <td>70</td>\n",
       "      <td>32</td>\n",
       "      <td>110</td>\n",
       "      <td>37.1</td>\n",
       "      <td>0.153</td>\n",
       "      <td>43</td>\n",
       "      <td>1</td>\n",
       "    </tr>\n",
       "    <tr>\n",
       "      <th>159</th>\n",
       "      <td>17</td>\n",
       "      <td>163</td>\n",
       "      <td>72</td>\n",
       "      <td>41</td>\n",
       "      <td>114</td>\n",
       "      <td>40.9</td>\n",
       "      <td>0.817</td>\n",
       "      <td>47</td>\n",
       "      <td>1</td>\n",
       "    </tr>\n",
       "    <tr>\n",
       "      <th>298</th>\n",
       "      <td>14</td>\n",
       "      <td>100</td>\n",
       "      <td>78</td>\n",
       "      <td>25</td>\n",
       "      <td>184</td>\n",
       "      <td>36.6</td>\n",
       "      <td>0.412</td>\n",
       "      <td>46</td>\n",
       "      <td>1</td>\n",
       "    </tr>\n",
       "    <tr>\n",
       "      <th>455</th>\n",
       "      <td>14</td>\n",
       "      <td>175</td>\n",
       "      <td>62</td>\n",
       "      <td>30</td>\n",
       "      <td>0</td>\n",
       "      <td>33.6</td>\n",
       "      <td>0.212</td>\n",
       "      <td>38</td>\n",
       "      <td>1</td>\n",
       "    </tr>\n",
       "  </tbody>\n",
       "</table>\n",
       "</div>"
      ],
      "text/plain": [
       "     Pregnancies  Glucose  BloodPressure  SkinThickness  Insulin   BMI  \\\n",
       "88            15      136             70             32      110  37.1   \n",
       "159           17      163             72             41      114  40.9   \n",
       "298           14      100             78             25      184  36.6   \n",
       "455           14      175             62             30        0  33.6   \n",
       "\n",
       "     DiabetesPedigreeFunction  Age  Outcome  \n",
       "88                      0.153   43        1  \n",
       "159                     0.817   47        1  \n",
       "298                     0.412   46        1  \n",
       "455                     0.212   38        1  "
      ]
     },
     "execution_count": 38,
     "metadata": {},
     "output_type": "execute_result"
    }
   ],
   "source": [
    "data[data['Pregnancies'] > 13]"
   ]
  },
  {
   "cell_type": "code",
   "execution_count": 10,
   "id": "6428521d",
   "metadata": {
    "execution": {
     "iopub.execute_input": "2023-01-21T21:02:08.066540Z",
     "iopub.status.busy": "2023-01-21T21:02:08.066157Z",
     "iopub.status.idle": "2023-01-21T21:02:08.072641Z",
     "shell.execute_reply": "2023-01-21T21:02:08.071593Z"
    },
    "id": "0Z2pq2IOemlI",
    "papermill": {
     "duration": 0.027814,
     "end_time": "2023-01-21T21:02:08.074837",
     "exception": false,
     "start_time": "2023-01-21T21:02:08.047023",
     "status": "completed"
    },
    "tags": []
   },
   "outputs": [],
   "source": [
    "data.loc[data['Pregnancies'] > 13 , 'Pregnancies'] = np.nan"
   ]
  },
  {
   "cell_type": "code",
   "execution_count": 6,
   "id": "dafc4a85",
   "metadata": {
    "execution": {
     "iopub.execute_input": "2023-01-21T21:02:08.113148Z",
     "iopub.status.busy": "2023-01-21T21:02:08.112396Z",
     "iopub.status.idle": "2023-01-21T21:02:08.226175Z",
     "shell.execute_reply": "2023-01-21T21:02:08.225142Z"
    },
    "id": "Lzx8hpi8fPqI",
    "outputId": "1742a275-9883-4b97-9f9d-4823047844dc",
    "papermill": {
     "duration": 0.135779,
     "end_time": "2023-01-21T21:02:08.228830",
     "exception": false,
     "start_time": "2023-01-21T21:02:08.093051",
     "status": "completed"
    },
    "tags": []
   },
   "outputs": [
    {
     "name": "stderr",
     "output_type": "stream",
     "text": [
      "C:\\Users\\omkar\\Anaconda3\\lib\\site-packages\\seaborn\\_decorators.py:36: FutureWarning: Pass the following variable as a keyword arg: x. From version 0.12, the only valid positional argument will be `data`, and passing other arguments without an explicit keyword will result in an error or misinterpretation.\n",
      "  warnings.warn(\n"
     ]
    },
    {
     "data": {
      "image/png": "[encoded data removed]",
      "text/plain": [
       "<Figure size 432x288 with 1 Axes>"
      ]
     },
     "metadata": {
      "needs_background": "light"
     },
     "output_type": "display_data"
    }
   ],
   "source": [
    "sns.boxplot(x=data['Pregnancies'])\n",
    "plt.show()"
   ]
  },
  {
   "cell_type": "code",
   "execution_count": 7,
   "id": "17349323",
   "metadata": {
    "execution": {
     "iopub.execute_input": "2023-01-21T21:02:08.267558Z",
     "iopub.status.busy": "2023-01-21T21:02:08.267147Z",
     "iopub.status.idle": "2023-01-21T21:02:08.450867Z",
     "shell.execute_reply": "2023-01-21T21:02:08.450050Z"
    },
    "id": "691Jb6NvfSQH",
    "outputId": "da6b6a7c-0bb5-4524-a8e3-6c9b3116c7ea",
    "papermill": {
     "duration": 0.206265,
     "end_time": "2023-01-21T21:02:08.453425",
     "exception": false,
     "start_time": "2023-01-21T21:02:08.247160",
     "status": "completed"
    },
    "tags": []
   },
   "outputs": [
    {
     "data": {
      "image/png": "[encoded data removed]",
      "text/plain": [
       "<Figure size 432x288 with 1 Axes>"
      ]
     },
     "metadata": {
      "needs_background": "light"
     },
     "output_type": "display_data"
    }
   ],
   "source": [
    "sns.histplot(x=data['Pregnancies'])\n",
    "plt.show()"
   ]
  },
  {
   "cell_type": "code",
   "execution_count": 13,
   "id": "3ab8e3cb",
   "metadata": {
    "execution": {
     "iopub.execute_input": "2023-01-21T21:02:08.492481Z",
     "iopub.status.busy": "2023-01-21T21:02:08.492084Z",
     "iopub.status.idle": "2023-01-21T21:02:08.499851Z",
     "shell.execute_reply": "2023-01-21T21:02:08.498650Z"
    },
    "id": "3M1adVEOfWrY",
    "outputId": "d95cf757-4da1-4251-ed45-3e29f25243a6",
    "papermill": {
     "duration": 0.030491,
     "end_time": "2023-01-21T21:02:08.502314",
     "exception": false,
     "start_time": "2023-01-21T21:02:08.471823",
     "status": "completed"
    },
    "tags": []
   },
   "outputs": [
    {
     "data": {
      "text/plain": [
       "4"
      ]
     },
     "execution_count": 13,
     "metadata": {},
     "output_type": "execute_result"
    }
   ],
   "source": [
    "data['Pregnancies'].isnull().sum()"
   ]
  },
  {
   "cell_type": "markdown",
   "id": "ff0bc191",
   "metadata": {
    "id": "T4SNod7Mff7n",
    "papermill": {
     "duration": 0.018604,
     "end_time": "2023-01-21T21:02:08.539865",
     "exception": false,
     "start_time": "2023-01-21T21:02:08.521261",
     "status": "completed"
    },
    "tags": []
   },
   "source": [
    "**For the attribute 'Glucose'**"
   ]
  },
  {
   "cell_type": "code",
   "execution_count": 8,
   "id": "c3a96b84",
   "metadata": {
    "execution": {
     "iopub.execute_input": "2023-01-21T21:02:08.579360Z",
     "iopub.status.busy": "2023-01-21T21:02:08.578978Z",
     "iopub.status.idle": "2023-01-21T21:02:08.789482Z",
     "shell.execute_reply": "2023-01-21T21:02:08.788616Z"
    },
    "id": "mPsmFroyfjRo",
    "outputId": "037aeedb-7f50-49ed-ae7e-2579dada8868",
    "papermill": {
     "duration": 0.233384,
     "end_time": "2023-01-21T21:02:08.792303",
     "exception": false,
     "start_time": "2023-01-21T21:02:08.558919",
     "status": "completed"
    },
    "tags": []
   },
   "outputs": [
    {
     "data": {
      "image/png": "[encoded data removed]",
      "text/plain": [
       "<Figure size 432x288 with 1 Axes>"
      ]
     },
     "metadata": {
      "needs_background": "light"
     },
     "output_type": "display_data"
    }
   ],
   "source": [
    "sns.histplot(data['Glucose'])\n",
    "plt.show()"
   ]
  },
  {
   "cell_type": "code",
   "execution_count": 15,
   "id": "087f65dc",
   "metadata": {
    "execution": {
     "iopub.execute_input": "2023-01-21T21:02:08.833037Z",
     "iopub.status.busy": "2023-01-21T21:02:08.832289Z",
     "iopub.status.idle": "2023-01-21T21:02:08.840561Z",
     "shell.execute_reply": "2023-01-21T21:02:08.839772Z"
    },
    "id": "rI6pncyIN8v4",
    "outputId": "fc435cdd-f85f-47c0-bf96-ab7a86f1815d",
    "papermill": {
     "duration": 0.03105,
     "end_time": "2023-01-21T21:02:08.842769",
     "exception": false,
     "start_time": "2023-01-21T21:02:08.811719",
     "status": "completed"
    },
    "tags": []
   },
   "outputs": [
    {
     "data": {
      "text/plain": [
       "62     44\n",
       "75      0\n",
       "182     0\n",
       "342     0\n",
       "349     0\n",
       "502     0\n",
       "Name: Glucose, dtype: int64"
      ]
     },
     "execution_count": 15,
     "metadata": {},
     "output_type": "execute_result"
    }
   ],
   "source": [
    "data.loc[data['Glucose'] < 50 , 'Glucose']"
   ]
  },
  {
   "cell_type": "code",
   "execution_count": 9,
   "id": "67be4441",
   "metadata": {
    "execution": {
     "iopub.execute_input": "2023-01-21T21:02:08.882615Z",
     "iopub.status.busy": "2023-01-21T21:02:08.881810Z",
     "iopub.status.idle": "2023-01-21T21:02:09.004793Z",
     "shell.execute_reply": "2023-01-21T21:02:09.003996Z"
    },
    "id": "Prvjp4v2OZKf",
    "outputId": "17529968-431e-44d1-c20a-5acfde450b14",
    "papermill": {
     "duration": 0.145725,
     "end_time": "2023-01-21T21:02:09.007143",
     "exception": false,
     "start_time": "2023-01-21T21:02:08.861418",
     "status": "completed"
    },
    "tags": []
   },
   "outputs": [
    {
     "name": "stderr",
     "output_type": "stream",
     "text": [
      "C:\\Users\\omkar\\Anaconda3\\lib\\site-packages\\seaborn\\_decorators.py:36: FutureWarning: Pass the following variable as a keyword arg: x. From version 0.12, the only valid positional argument will be `data`, and passing other arguments without an explicit keyword will result in an error or misinterpretation.\n",
      "  warnings.warn(\n"
     ]
    },
    {
     "data": {
      "image/png": "[encoded data removed]",
      "text/plain": [
       "<Figure size 432x288 with 1 Axes>"
      ]
     },
     "metadata": {
      "needs_background": "light"
     },
     "output_type": "display_data"
    }
   ],
   "source": [
    "sns.boxplot(x=data['Glucose'])\n",
    "plt.show()"
   ]
  },
  {
   "cell_type": "code",
   "execution_count": 17,
   "id": "2d890880",
   "metadata": {
    "execution": {
     "iopub.execute_input": "2023-01-21T21:02:09.047795Z",
     "iopub.status.busy": "2023-01-21T21:02:09.047026Z",
     "iopub.status.idle": "2023-01-21T21:02:09.053621Z",
     "shell.execute_reply": "2023-01-21T21:02:09.052805Z"
    },
    "id": "1TCnDqEXSL_u",
    "papermill": {
     "duration": 0.02951,
     "end_time": "2023-01-21T21:02:09.055953",
     "exception": false,
     "start_time": "2023-01-21T21:02:09.026443",
     "status": "completed"
    },
    "tags": []
   },
   "outputs": [],
   "source": [
    "data.loc[data['Glucose'] < 40 , 'Glucose'] = np.nan"
   ]
  },
  {
   "cell_type": "code",
   "execution_count": 10,
   "id": "4c3b80ee",
   "metadata": {
    "execution": {
     "iopub.execute_input": "2023-01-21T21:02:09.096980Z",
     "iopub.status.busy": "2023-01-21T21:02:09.096563Z",
     "iopub.status.idle": "2023-01-21T21:02:09.348200Z",
     "shell.execute_reply": "2023-01-21T21:02:09.346974Z"
    },
    "id": "ynPPw86WOCE8",
    "outputId": "6552e0d9-c2e3-42ca-fd08-511f01f3919c",
    "papermill": {
     "duration": 0.275493,
     "end_time": "2023-01-21T21:02:09.350958",
     "exception": false,
     "start_time": "2023-01-21T21:02:09.075465",
     "status": "completed"
    },
    "tags": []
   },
   "outputs": [
    {
     "data": {
      "image/png": "[encoded data removed]",
      "text/plain": [
       "<Figure size 432x288 with 1 Axes>"
      ]
     },
     "metadata": {
      "needs_background": "light"
     },
     "output_type": "display_data"
    }
   ],
   "source": [
    "sns.histplot(data['Glucose'])\n",
    "plt.show()"
   ]
  },
  {
   "cell_type": "code",
   "execution_count": 11,
   "id": "60e89e12",
   "metadata": {
    "execution": {
     "iopub.execute_input": "2023-01-21T21:02:09.394261Z",
     "iopub.status.busy": "2023-01-21T21:02:09.393364Z",
     "iopub.status.idle": "2023-01-21T21:02:09.585074Z",
     "shell.execute_reply": "2023-01-21T21:02:09.583952Z"
    },
    "id": "pCzOk57wTYSy",
    "outputId": "0e757d37-f6c6-4f43-b305-4a9ae7338fce",
    "papermill": {
     "duration": 0.216098,
     "end_time": "2023-01-21T21:02:09.587377",
     "exception": false,
     "start_time": "2023-01-21T21:02:09.371279",
     "status": "completed"
    },
    "tags": []
   },
   "outputs": [
    {
     "name": "stderr",
     "output_type": "stream",
     "text": [
      "C:\\Users\\omkar\\Anaconda3\\lib\\site-packages\\seaborn\\_decorators.py:36: FutureWarning: Pass the following variable as a keyword arg: x. From version 0.12, the only valid positional argument will be `data`, and passing other arguments without an explicit keyword will result in an error or misinterpretation.\n",
      "  warnings.warn(\n"
     ]
    },
    {
     "data": {
      "image/png": "[encoded data removed]",
      "text/plain": [
       "<Figure size 432x288 with 1 Axes>"
      ]
     },
     "metadata": {
      "needs_background": "light"
     },
     "output_type": "display_data"
    }
   ],
   "source": [
    "sns.boxplot(x=data['Glucose'])\n",
    "plt.show()"
   ]
  },
  {
   "cell_type": "markdown",
   "id": "1ee4f265",
   "metadata": {
    "id": "dwhzswBgTZi6",
    "papermill": {
     "duration": 0.019885,
     "end_time": "2023-01-21T21:02:09.627382",
     "exception": false,
     "start_time": "2023-01-21T21:02:09.607497",
     "status": "completed"
    },
    "tags": []
   },
   "source": [
    "**For the attribute 'BloodPressure'**"
   ]
  },
  {
   "cell_type": "code",
   "execution_count": 20,
   "id": "a48527cc",
   "metadata": {
    "execution": {
     "iopub.execute_input": "2023-01-21T21:02:09.669280Z",
     "iopub.status.busy": "2023-01-21T21:02:09.668869Z",
     "iopub.status.idle": "2023-01-21T21:02:09.969969Z",
     "shell.execute_reply": "2023-01-21T21:02:09.968813Z"
    },
    "id": "N-rB08PUT8Ny",
    "outputId": "8b817d3f-6878-4d3c-fc62-68d77b175bc2",
    "papermill": {
     "duration": 0.32489,
     "end_time": "2023-01-21T21:02:09.972270",
     "exception": false,
     "start_time": "2023-01-21T21:02:09.647380",
     "status": "completed"
    },
    "tags": []
   },
   "outputs": [
    {
     "data": {
      "text/plain": [
       "<AxesSubplot:xlabel='BloodPressure', ylabel='Count'>"
      ]
     },
     "execution_count": 20,
     "metadata": {},
     "output_type": "execute_result"
    },
    {
     "data": {
      "image/png": "[encoded data removed]",
      "text/plain": [
       "<Figure size 432x288 with 1 Axes>"
      ]
     },
     "metadata": {
      "needs_background": "light"
     },
     "output_type": "display_data"
    }
   ],
   "source": [
    "sns.histplot(data['BloodPressure'])\n",
    "plt.show()"
   ]
  },
  {
   "cell_type": "code",
   "execution_count": 13,
   "id": "e24b497e",
   "metadata": {
    "execution": {
     "iopub.execute_input": "2023-01-21T21:02:10.014991Z",
     "iopub.status.busy": "2023-01-21T21:02:10.014586Z",
     "iopub.status.idle": "2023-01-21T21:02:10.195382Z",
     "shell.execute_reply": "2023-01-21T21:02:10.194299Z"
    },
    "id": "qy8mIBJZT_EK",
    "outputId": "2eceda3f-b1f9-4419-fbac-28963b999206",
    "papermill": {
     "duration": 0.204928,
     "end_time": "2023-01-21T21:02:10.197778",
     "exception": false,
     "start_time": "2023-01-21T21:02:09.992850",
     "status": "completed"
    },
    "tags": []
   },
   "outputs": [
    {
     "name": "stderr",
     "output_type": "stream",
     "text": [
      "C:\\Users\\omkar\\Anaconda3\\lib\\site-packages\\seaborn\\_decorators.py:36: FutureWarning: Pass the following variable as a keyword arg: x. From version 0.12, the only valid positional argument will be `data`, and passing other arguments without an explicit keyword will result in an error or misinterpretation.\n",
      "  warnings.warn(\n"
     ]
    },
    {
     "data": {
      "image/png": "[encoded data removed]",
      "text/plain": [
       "<Figure size 432x288 with 1 Axes>"
      ]
     },
     "metadata": {
      "needs_background": "light"
     },
     "output_type": "display_data"
    }
   ],
   "source": [
    "sns.boxplot(data['BloodPressure'])\n",
    "plt.show()"
   ]
  },
  {
   "cell_type": "code",
   "execution_count": 22,
   "id": "50c5b212",
   "metadata": {
    "execution": {
     "iopub.execute_input": "2023-01-21T21:02:10.240731Z",
     "iopub.status.busy": "2023-01-21T21:02:10.240358Z",
     "iopub.status.idle": "2023-01-21T21:02:10.247500Z",
     "shell.execute_reply": "2023-01-21T21:02:10.246468Z"
    },
    "id": "mOk10V-XUDo6",
    "papermill": {
     "duration": 0.031242,
     "end_time": "2023-01-21T21:02:10.249823",
     "exception": false,
     "start_time": "2023-01-21T21:02:10.218581",
     "status": "completed"
    },
    "tags": []
   },
   "outputs": [],
   "source": [
    "data.loc[data['BloodPressure'] < 40 , 'BloodPressure'] = np.nan"
   ]
  },
  {
   "cell_type": "code",
   "execution_count": 14,
   "id": "93d4e4de",
   "metadata": {
    "execution": {
     "iopub.execute_input": "2023-01-21T21:02:10.294250Z",
     "iopub.status.busy": "2023-01-21T21:02:10.293128Z",
     "iopub.status.idle": "2023-01-21T21:02:10.468221Z",
     "shell.execute_reply": "2023-01-21T21:02:10.466968Z"
    },
    "id": "qScQxwU2VpvD",
    "outputId": "9165f322-db58-435e-a026-a07aeb34aaf3",
    "papermill": {
     "duration": 0.200034,
     "end_time": "2023-01-21T21:02:10.470983",
     "exception": false,
     "start_time": "2023-01-21T21:02:10.270949",
     "status": "completed"
    },
    "tags": []
   },
   "outputs": [
    {
     "name": "stderr",
     "output_type": "stream",
     "text": [
      "C:\\Users\\omkar\\Anaconda3\\lib\\site-packages\\seaborn\\_decorators.py:36: FutureWarning: Pass the following variable as a keyword arg: x. From version 0.12, the only valid positional argument will be `data`, and passing other arguments without an explicit keyword will result in an error or misinterpretation.\n",
      "  warnings.warn(\n"
     ]
    },
    {
     "data": {
      "image/png": "[encoded data removed]",
      "text/plain": [
       "<Figure size 432x288 with 1 Axes>"
      ]
     },
     "metadata": {
      "needs_background": "light"
     },
     "output_type": "display_data"
    }
   ],
   "source": [
    "sns.boxplot(x=data['BloodPressure'])\n",
    "plt.show()"
   ]
  },
  {
   "cell_type": "code",
   "execution_count": 24,
   "id": "bff1e257",
   "metadata": {
    "execution": {
     "iopub.execute_input": "2023-01-21T21:02:10.517072Z",
     "iopub.status.busy": "2023-01-21T21:02:10.516050Z",
     "iopub.status.idle": "2023-01-21T21:02:10.530986Z",
     "shell.execute_reply": "2023-01-21T21:02:10.529763Z"
    },
    "id": "DhsUs2RGVuPS",
    "outputId": "406d065a-74d9-4457-e3f5-5279a92d5730",
    "papermill": {
     "duration": 0.04057,
     "end_time": "2023-01-21T21:02:10.533100",
     "exception": false,
     "start_time": "2023-01-21T21:02:10.492530",
     "status": "completed"
    },
    "tags": []
   },
   "outputs": [
    {
     "data": {
      "text/html": [
       "<div>\n",
       "<style scoped>\n",
       "    .dataframe tbody tr th:only-of-type {\n",
       "        vertical-align: middle;\n",
       "    }\n",
       "\n",
       "    .dataframe tbody tr th {\n",
       "        vertical-align: top;\n",
       "    }\n",
       "\n",
       "    .dataframe thead th {\n",
       "        text-align: right;\n",
       "    }\n",
       "</style>\n",
       "<table border=\"1\" class=\"dataframe\">\n",
       "  <thead>\n",
       "    <tr style=\"text-align: right;\">\n",
       "      <th></th>\n",
       "      <th>Pregnancies</th>\n",
       "      <th>Glucose</th>\n",
       "      <th>BloodPressure</th>\n",
       "      <th>SkinThickness</th>\n",
       "      <th>Insulin</th>\n",
       "      <th>BMI</th>\n",
       "      <th>DiabetesPedigreeFunction</th>\n",
       "      <th>Age</th>\n",
       "      <th>Outcome</th>\n",
       "    </tr>\n",
       "  </thead>\n",
       "  <tbody>\n",
       "    <tr>\n",
       "      <th>106</th>\n",
       "      <td>1.0</td>\n",
       "      <td>96.0</td>\n",
       "      <td>122.0</td>\n",
       "      <td>0</td>\n",
       "      <td>0</td>\n",
       "      <td>22.4</td>\n",
       "      <td>0.207</td>\n",
       "      <td>27</td>\n",
       "      <td>0</td>\n",
       "    </tr>\n",
       "  </tbody>\n",
       "</table>\n",
       "</div>"
      ],
      "text/plain": [
       "     Pregnancies  Glucose  BloodPressure  SkinThickness  Insulin   BMI  \\\n",
       "106          1.0     96.0          122.0              0        0  22.4   \n",
       "\n",
       "     DiabetesPedigreeFunction  Age  Outcome  \n",
       "106                     0.207   27        0  "
      ]
     },
     "execution_count": 24,
     "metadata": {},
     "output_type": "execute_result"
    }
   ],
   "source": [
    "data.loc[data['BloodPressure'] > 120]"
   ]
  },
  {
   "cell_type": "code",
   "execution_count": 25,
   "id": "0a8fc085",
   "metadata": {
    "execution": {
     "iopub.execute_input": "2023-01-21T21:02:10.577466Z",
     "iopub.status.busy": "2023-01-21T21:02:10.576461Z",
     "iopub.status.idle": "2023-01-21T21:02:10.582727Z",
     "shell.execute_reply": "2023-01-21T21:02:10.581722Z"
    },
    "id": "PGaqb989V-n5",
    "papermill": {
     "duration": 0.031125,
     "end_time": "2023-01-21T21:02:10.585151",
     "exception": false,
     "start_time": "2023-01-21T21:02:10.554026",
     "status": "completed"
    },
    "tags": []
   },
   "outputs": [],
   "source": [
    "data.loc[data['BloodPressure'] > 120 , 'BloodPressure'] = np.nan"
   ]
  },
  {
   "cell_type": "code",
   "execution_count": 15,
   "id": "173f225f",
   "metadata": {
    "execution": {
     "iopub.execute_input": "2023-01-21T21:02:10.629188Z",
     "iopub.status.busy": "2023-01-21T21:02:10.628804Z",
     "iopub.status.idle": "2023-01-21T21:02:10.898581Z",
     "shell.execute_reply": "2023-01-21T21:02:10.897389Z"
    },
    "id": "NOWTaWnDV4tg",
    "outputId": "aa9617f5-74a4-4348-d812-c9039cba75aa",
    "papermill": {
     "duration": 0.294842,
     "end_time": "2023-01-21T21:02:10.901252",
     "exception": false,
     "start_time": "2023-01-21T21:02:10.606410",
     "status": "completed"
    },
    "tags": []
   },
   "outputs": [
    {
     "data": {
      "image/png": "[encoded data removed]",
      "text/plain": [
       "<Figure size 432x288 with 1 Axes>"
      ]
     },
     "metadata": {
      "needs_background": "light"
     },
     "output_type": "display_data"
    }
   ],
   "source": [
    "sns.histplot(x=data['BloodPressure'])\n",
    "plt.show()"
   ]
  },
  {
   "cell_type": "markdown",
   "id": "c27a7dbb",
   "metadata": {
    "id": "FFfMfo25Xxng",
    "papermill": {
     "duration": 0.024103,
     "end_time": "2023-01-21T21:02:10.947810",
     "exception": false,
     "start_time": "2023-01-21T21:02:10.923707",
     "status": "completed"
    },
    "tags": []
   },
   "source": [
    "**For the attribute 'SkinThickness'**"
   ]
  },
  {
   "cell_type": "code",
   "execution_count": 27,
   "id": "72acee5b",
   "metadata": {
    "execution": {
     "iopub.execute_input": "2023-01-21T21:02:10.992427Z",
     "iopub.status.busy": "2023-01-21T21:02:10.991966Z",
     "iopub.status.idle": "2023-01-21T21:02:11.182852Z",
     "shell.execute_reply": "2023-01-21T21:02:11.182040Z"
    },
    "id": "fn6ZRx4mX1ne",
    "outputId": "7582358e-b9e5-4402-f865-b761f4264239",
    "papermill": {
     "duration": 0.215556,
     "end_time": "2023-01-21T21:02:11.185003",
     "exception": false,
     "start_time": "2023-01-21T21:02:10.969447",
     "status": "completed"
    },
    "tags": []
   },
   "outputs": [
    {
     "data": {
      "text/plain": [
       "<AxesSubplot:xlabel='SkinThickness', ylabel='Count'>"
      ]
     },
     "execution_count": 27,
     "metadata": {},
     "output_type": "execute_result"
    },
    {
     "data": {
      "image/png": "[encoded data removed]",
      "text/plain": [
       "<Figure size 432x288 with 1 Axes>"
      ]
     },
     "metadata": {
      "needs_background": "light"
     },
     "output_type": "display_data"
    }
   ],
   "source": [
    "sns.histplot(data['SkinThickness'])\n",
    "plt.show()"
   ]
  },
  {
   "cell_type": "code",
   "execution_count": 16,
   "id": "c66e7309",
   "metadata": {
    "execution": {
     "iopub.execute_input": "2023-01-21T21:02:11.230311Z",
     "iopub.status.busy": "2023-01-21T21:02:11.229694Z",
     "iopub.status.idle": "2023-01-21T21:02:11.538872Z",
     "shell.execute_reply": "2023-01-21T21:02:11.537401Z"
    },
    "id": "nIV8NBuPX4Vw",
    "outputId": "08d82a8c-fb1d-41c3-ae27-6011df771f95",
    "papermill": {
     "duration": 0.335188,
     "end_time": "2023-01-21T21:02:11.541832",
     "exception": false,
     "start_time": "2023-01-21T21:02:11.206644",
     "status": "completed"
    },
    "tags": []
   },
   "outputs": [
    {
     "name": "stderr",
     "output_type": "stream",
     "text": [
      "C:\\Users\\omkar\\Anaconda3\\lib\\site-packages\\seaborn\\_decorators.py:36: FutureWarning: Pass the following variable as a keyword arg: x. From version 0.12, the only valid positional argument will be `data`, and passing other arguments without an explicit keyword will result in an error or misinterpretation.\n",
      "  warnings.warn(\n"
     ]
    },
    {
     "data": {
      "image/png": "[encoded data removed]",
      "text/plain": [
       "<Figure size 432x288 with 1 Axes>"
      ]
     },
     "metadata": {
      "needs_background": "light"
     },
     "output_type": "display_data"
    }
   ],
   "source": [
    "sns.boxplot(x=data['SkinThickness'])\n",
    "plt.show()"
   ]
  },
  {
   "cell_type": "code",
   "execution_count": 29,
   "id": "c4a45f33",
   "metadata": {
    "execution": {
     "iopub.execute_input": "2023-01-21T21:02:11.590822Z",
     "iopub.status.busy": "2023-01-21T21:02:11.590094Z",
     "iopub.status.idle": "2023-01-21T21:02:11.611949Z",
     "shell.execute_reply": "2023-01-21T21:02:11.610721Z"
    },
    "id": "Ob5kMUCWX7sH",
    "outputId": "4a335d35-1bcb-468d-8d58-09e04c0d9a7e",
    "papermill": {
     "duration": 0.048394,
     "end_time": "2023-01-21T21:02:11.614385",
     "exception": false,
     "start_time": "2023-01-21T21:02:11.565991",
     "status": "completed"
    },
    "tags": []
   },
   "outputs": [
    {
     "data": {
      "text/html": [
       "<div>\n",
       "<style scoped>\n",
       "    .dataframe tbody tr th:only-of-type {\n",
       "        vertical-align: middle;\n",
       "    }\n",
       "\n",
       "    .dataframe tbody tr th {\n",
       "        vertical-align: top;\n",
       "    }\n",
       "\n",
       "    .dataframe thead th {\n",
       "        text-align: right;\n",
       "    }\n",
       "</style>\n",
       "<table border=\"1\" class=\"dataframe\">\n",
       "  <thead>\n",
       "    <tr style=\"text-align: right;\">\n",
       "      <th></th>\n",
       "      <th>Pregnancies</th>\n",
       "      <th>Glucose</th>\n",
       "      <th>BloodPressure</th>\n",
       "      <th>SkinThickness</th>\n",
       "      <th>Insulin</th>\n",
       "      <th>BMI</th>\n",
       "      <th>DiabetesPedigreeFunction</th>\n",
       "      <th>Age</th>\n",
       "      <th>Outcome</th>\n",
       "    </tr>\n",
       "  </thead>\n",
       "  <tbody>\n",
       "    <tr>\n",
       "      <th>2</th>\n",
       "      <td>8.0</td>\n",
       "      <td>183.0</td>\n",
       "      <td>64.0</td>\n",
       "      <td>0</td>\n",
       "      <td>0</td>\n",
       "      <td>23.3</td>\n",
       "      <td>0.672</td>\n",
       "      <td>32</td>\n",
       "      <td>1</td>\n",
       "    </tr>\n",
       "    <tr>\n",
       "      <th>5</th>\n",
       "      <td>5.0</td>\n",
       "      <td>116.0</td>\n",
       "      <td>74.0</td>\n",
       "      <td>0</td>\n",
       "      <td>0</td>\n",
       "      <td>25.6</td>\n",
       "      <td>0.201</td>\n",
       "      <td>30</td>\n",
       "      <td>0</td>\n",
       "    </tr>\n",
       "    <tr>\n",
       "      <th>7</th>\n",
       "      <td>10.0</td>\n",
       "      <td>115.0</td>\n",
       "      <td>NaN</td>\n",
       "      <td>0</td>\n",
       "      <td>0</td>\n",
       "      <td>35.3</td>\n",
       "      <td>0.134</td>\n",
       "      <td>29</td>\n",
       "      <td>0</td>\n",
       "    </tr>\n",
       "    <tr>\n",
       "      <th>9</th>\n",
       "      <td>8.0</td>\n",
       "      <td>125.0</td>\n",
       "      <td>96.0</td>\n",
       "      <td>0</td>\n",
       "      <td>0</td>\n",
       "      <td>0.0</td>\n",
       "      <td>0.232</td>\n",
       "      <td>54</td>\n",
       "      <td>1</td>\n",
       "    </tr>\n",
       "    <tr>\n",
       "      <th>10</th>\n",
       "      <td>4.0</td>\n",
       "      <td>110.0</td>\n",
       "      <td>92.0</td>\n",
       "      <td>0</td>\n",
       "      <td>0</td>\n",
       "      <td>37.6</td>\n",
       "      <td>0.191</td>\n",
       "      <td>30</td>\n",
       "      <td>0</td>\n",
       "    </tr>\n",
       "    <tr>\n",
       "      <th>...</th>\n",
       "      <td>...</td>\n",
       "      <td>...</td>\n",
       "      <td>...</td>\n",
       "      <td>...</td>\n",
       "      <td>...</td>\n",
       "      <td>...</td>\n",
       "      <td>...</td>\n",
       "      <td>...</td>\n",
       "      <td>...</td>\n",
       "    </tr>\n",
       "    <tr>\n",
       "      <th>757</th>\n",
       "      <td>0.0</td>\n",
       "      <td>123.0</td>\n",
       "      <td>72.0</td>\n",
       "      <td>0</td>\n",
       "      <td>0</td>\n",
       "      <td>36.3</td>\n",
       "      <td>0.258</td>\n",
       "      <td>52</td>\n",
       "      <td>1</td>\n",
       "    </tr>\n",
       "    <tr>\n",
       "      <th>758</th>\n",
       "      <td>1.0</td>\n",
       "      <td>106.0</td>\n",
       "      <td>76.0</td>\n",
       "      <td>0</td>\n",
       "      <td>0</td>\n",
       "      <td>37.5</td>\n",
       "      <td>0.197</td>\n",
       "      <td>26</td>\n",
       "      <td>0</td>\n",
       "    </tr>\n",
       "    <tr>\n",
       "      <th>759</th>\n",
       "      <td>6.0</td>\n",
       "      <td>190.0</td>\n",
       "      <td>92.0</td>\n",
       "      <td>0</td>\n",
       "      <td>0</td>\n",
       "      <td>35.5</td>\n",
       "      <td>0.278</td>\n",
       "      <td>66</td>\n",
       "      <td>1</td>\n",
       "    </tr>\n",
       "    <tr>\n",
       "      <th>762</th>\n",
       "      <td>9.0</td>\n",
       "      <td>89.0</td>\n",
       "      <td>62.0</td>\n",
       "      <td>0</td>\n",
       "      <td>0</td>\n",
       "      <td>22.5</td>\n",
       "      <td>0.142</td>\n",
       "      <td>33</td>\n",
       "      <td>0</td>\n",
       "    </tr>\n",
       "    <tr>\n",
       "      <th>766</th>\n",
       "      <td>1.0</td>\n",
       "      <td>126.0</td>\n",
       "      <td>60.0</td>\n",
       "      <td>0</td>\n",
       "      <td>0</td>\n",
       "      <td>30.1</td>\n",
       "      <td>0.349</td>\n",
       "      <td>47</td>\n",
       "      <td>1</td>\n",
       "    </tr>\n",
       "  </tbody>\n",
       "</table>\n",
       "<p>242 rows × 9 columns</p>\n",
       "</div>"
      ],
      "text/plain": [
       "     Pregnancies  Glucose  BloodPressure  SkinThickness  Insulin   BMI  \\\n",
       "2            8.0    183.0           64.0              0        0  23.3   \n",
       "5            5.0    116.0           74.0              0        0  25.6   \n",
       "7           10.0    115.0            NaN              0        0  35.3   \n",
       "9            8.0    125.0           96.0              0        0   0.0   \n",
       "10           4.0    110.0           92.0              0        0  37.6   \n",
       "..           ...      ...            ...            ...      ...   ...   \n",
       "757          0.0    123.0           72.0              0        0  36.3   \n",
       "758          1.0    106.0           76.0              0        0  37.5   \n",
       "759          6.0    190.0           92.0              0        0  35.5   \n",
       "762          9.0     89.0           62.0              0        0  22.5   \n",
       "766          1.0    126.0           60.0              0        0  30.1   \n",
       "\n",
       "     DiabetesPedigreeFunction  Age  Outcome  \n",
       "2                       0.672   32        1  \n",
       "5                       0.201   30        0  \n",
       "7                       0.134   29        0  \n",
       "9                       0.232   54        1  \n",
       "10                      0.191   30        0  \n",
       "..                        ...  ...      ...  \n",
       "757                     0.258   52        1  \n",
       "758                     0.197   26        0  \n",
       "759                     0.278   66        1  \n",
       "762                     0.142   33        0  \n",
       "766                     0.349   47        1  \n",
       "\n",
       "[242 rows x 9 columns]"
      ]
     },
     "execution_count": 29,
     "metadata": {},
     "output_type": "execute_result"
    }
   ],
   "source": [
    "data.loc[data['SkinThickness'] < 12 ]"
   ]
  },
  {
   "cell_type": "code",
   "execution_count": 30,
   "id": "c8a44957",
   "metadata": {
    "execution": {
     "iopub.execute_input": "2023-01-21T21:02:11.663143Z",
     "iopub.status.busy": "2023-01-21T21:02:11.662051Z",
     "iopub.status.idle": "2023-01-21T21:02:11.668679Z",
     "shell.execute_reply": "2023-01-21T21:02:11.667959Z"
    },
    "id": "Pj5-gciPYo4q",
    "papermill": {
     "duration": 0.032953,
     "end_time": "2023-01-21T21:02:11.670714",
     "exception": false,
     "start_time": "2023-01-21T21:02:11.637761",
     "status": "completed"
    },
    "tags": []
   },
   "outputs": [],
   "source": [
    "data.loc[data['SkinThickness'] <12  , 'SkinThickness'] = np.nan"
   ]
  },
  {
   "cell_type": "code",
   "execution_count": 17,
   "id": "c1b36ed5",
   "metadata": {
    "execution": {
     "iopub.execute_input": "2023-01-21T21:02:11.718067Z",
     "iopub.status.busy": "2023-01-21T21:02:11.717613Z",
     "iopub.status.idle": "2023-01-21T21:02:11.974634Z",
     "shell.execute_reply": "2023-01-21T21:02:11.973544Z"
    },
    "id": "LVwx3dmRacKu",
    "outputId": "3fd58257-e69d-4740-a838-c0d968c12c31",
    "papermill": {
     "duration": 0.283087,
     "end_time": "2023-01-21T21:02:11.976874",
     "exception": false,
     "start_time": "2023-01-21T21:02:11.693787",
     "status": "completed"
    },
    "tags": []
   },
   "outputs": [
    {
     "data": {
      "image/png": "[encoded data removed]",
      "text/plain": [
       "<Figure size 432x288 with 1 Axes>"
      ]
     },
     "metadata": {
      "needs_background": "light"
     },
     "output_type": "display_data"
    }
   ],
   "source": [
    "sns.histplot(data['SkinThickness'])\n",
    "plt.show()"
   ]
  },
  {
   "cell_type": "code",
   "execution_count": 18,
   "id": "ad9efedc",
   "metadata": {
    "execution": {
     "iopub.execute_input": "2023-01-21T21:02:12.026697Z",
     "iopub.status.busy": "2023-01-21T21:02:12.025513Z",
     "iopub.status.idle": "2023-01-21T21:02:12.199135Z",
     "shell.execute_reply": "2023-01-21T21:02:12.197946Z"
    },
    "id": "AH8FKwVvaZBv",
    "outputId": "d9dbb477-3464-4b78-d473-371e44dbd34a",
    "papermill": {
     "duration": 0.20173,
     "end_time": "2023-01-21T21:02:12.201683",
     "exception": false,
     "start_time": "2023-01-21T21:02:11.999953",
     "status": "completed"
    },
    "tags": []
   },
   "outputs": [
    {
     "name": "stderr",
     "output_type": "stream",
     "text": [
      "C:\\Users\\omkar\\Anaconda3\\lib\\site-packages\\seaborn\\_decorators.py:36: FutureWarning: Pass the following variable as a keyword arg: x. From version 0.12, the only valid positional argument will be `data`, and passing other arguments without an explicit keyword will result in an error or misinterpretation.\n",
      "  warnings.warn(\n"
     ]
    },
    {
     "data": {
      "image/png": "[encoded data removed]",
      "text/plain": [
       "<Figure size 432x288 with 1 Axes>"
      ]
     },
     "metadata": {
      "needs_background": "light"
     },
     "output_type": "display_data"
    }
   ],
   "source": [
    "sns.boxplot(x=data['SkinThickness'])\n",
    "plt.show()"
   ]
  },
  {
   "cell_type": "code",
   "execution_count": 33,
   "id": "f5257355",
   "metadata": {
    "execution": {
     "iopub.execute_input": "2023-01-21T21:02:12.250109Z",
     "iopub.status.busy": "2023-01-21T21:02:12.249722Z",
     "iopub.status.idle": "2023-01-21T21:02:12.266643Z",
     "shell.execute_reply": "2023-01-21T21:02:12.265584Z"
    },
    "id": "orfVbS6pagDe",
    "outputId": "ce7b4261-7fd7-42b3-f9a1-b019b1d5d8c5",
    "papermill": {
     "duration": 0.043491,
     "end_time": "2023-01-21T21:02:12.268816",
     "exception": false,
     "start_time": "2023-01-21T21:02:12.225325",
     "status": "completed"
    },
    "tags": []
   },
   "outputs": [
    {
     "data": {
      "text/html": [
       "<div>\n",
       "<style scoped>\n",
       "    .dataframe tbody tr th:only-of-type {\n",
       "        vertical-align: middle;\n",
       "    }\n",
       "\n",
       "    .dataframe tbody tr th {\n",
       "        vertical-align: top;\n",
       "    }\n",
       "\n",
       "    .dataframe thead th {\n",
       "        text-align: right;\n",
       "    }\n",
       "</style>\n",
       "<table border=\"1\" class=\"dataframe\">\n",
       "  <thead>\n",
       "    <tr style=\"text-align: right;\">\n",
       "      <th></th>\n",
       "      <th>Pregnancies</th>\n",
       "      <th>Glucose</th>\n",
       "      <th>BloodPressure</th>\n",
       "      <th>SkinThickness</th>\n",
       "      <th>Insulin</th>\n",
       "      <th>BMI</th>\n",
       "      <th>DiabetesPedigreeFunction</th>\n",
       "      <th>Age</th>\n",
       "      <th>Outcome</th>\n",
       "    </tr>\n",
       "  </thead>\n",
       "  <tbody>\n",
       "    <tr>\n",
       "      <th>57</th>\n",
       "      <td>0.0</td>\n",
       "      <td>100.0</td>\n",
       "      <td>88.0</td>\n",
       "      <td>60.0</td>\n",
       "      <td>110</td>\n",
       "      <td>46.8</td>\n",
       "      <td>0.962</td>\n",
       "      <td>31</td>\n",
       "      <td>0</td>\n",
       "    </tr>\n",
       "    <tr>\n",
       "      <th>445</th>\n",
       "      <td>0.0</td>\n",
       "      <td>180.0</td>\n",
       "      <td>78.0</td>\n",
       "      <td>63.0</td>\n",
       "      <td>14</td>\n",
       "      <td>59.4</td>\n",
       "      <td>2.420</td>\n",
       "      <td>25</td>\n",
       "      <td>1</td>\n",
       "    </tr>\n",
       "    <tr>\n",
       "      <th>579</th>\n",
       "      <td>2.0</td>\n",
       "      <td>197.0</td>\n",
       "      <td>70.0</td>\n",
       "      <td>99.0</td>\n",
       "      <td>0</td>\n",
       "      <td>34.7</td>\n",
       "      <td>0.575</td>\n",
       "      <td>62</td>\n",
       "      <td>1</td>\n",
       "    </tr>\n",
       "  </tbody>\n",
       "</table>\n",
       "</div>"
      ],
      "text/plain": [
       "     Pregnancies  Glucose  BloodPressure  SkinThickness  Insulin   BMI  \\\n",
       "57           0.0    100.0           88.0           60.0      110  46.8   \n",
       "445          0.0    180.0           78.0           63.0       14  59.4   \n",
       "579          2.0    197.0           70.0           99.0        0  34.7   \n",
       "\n",
       "     DiabetesPedigreeFunction  Age  Outcome  \n",
       "57                      0.962   31        0  \n",
       "445                     2.420   25        1  \n",
       "579                     0.575   62        1  "
      ]
     },
     "execution_count": 33,
     "metadata": {},
     "output_type": "execute_result"
    }
   ],
   "source": [
    "data.loc[data['SkinThickness'] > 59 ]"
   ]
  },
  {
   "cell_type": "markdown",
   "id": "2122794d",
   "metadata": {
    "id": "LB_zckvSyvgD",
    "papermill": {
     "duration": 0.023088,
     "end_time": "2023-01-21T21:02:12.315933",
     "exception": false,
     "start_time": "2023-01-21T21:02:12.292845",
     "status": "completed"
    },
    "tags": []
   },
   "source": [
    "**Insulin**"
   ]
  },
  {
   "cell_type": "code",
   "execution_count": 19,
   "id": "e2768a55",
   "metadata": {
    "execution": {
     "iopub.execute_input": "2023-01-21T21:02:12.364925Z",
     "iopub.status.busy": "2023-01-21T21:02:12.364544Z",
     "iopub.status.idle": "2023-01-21T21:02:12.644969Z",
     "shell.execute_reply": "2023-01-21T21:02:12.643699Z"
    },
    "id": "vXeWub62a6BY",
    "outputId": "8e520b82-202f-422b-c11c-b92acde592bc",
    "papermill": {
     "duration": 0.308142,
     "end_time": "2023-01-21T21:02:12.647642",
     "exception": false,
     "start_time": "2023-01-21T21:02:12.339500",
     "status": "completed"
    },
    "tags": []
   },
   "outputs": [
    {
     "data": {
      "image/png": "[encoded data removed]",
      "text/plain": [
       "<Figure size 432x288 with 1 Axes>"
      ]
     },
     "metadata": {
      "needs_background": "light"
     },
     "output_type": "display_data"
    }
   ],
   "source": [
    "sns.histplot(data['Insulin'])\n",
    "plt.show()"
   ]
  },
  {
   "cell_type": "code",
   "execution_count": 20,
   "id": "f047c73a",
   "metadata": {
    "execution": {
     "iopub.execute_input": "2023-01-21T21:02:12.697639Z",
     "iopub.status.busy": "2023-01-21T21:02:12.697010Z",
     "iopub.status.idle": "2023-01-21T21:02:12.803612Z",
     "shell.execute_reply": "2023-01-21T21:02:12.802772Z"
    },
    "id": "Uhi-AE3IzWPV",
    "outputId": "d035f8c7-5a41-4e3e-f738-023ac84b05fe",
    "papermill": {
     "duration": 0.136132,
     "end_time": "2023-01-21T21:02:12.807549",
     "exception": false,
     "start_time": "2023-01-21T21:02:12.671417",
     "status": "completed"
    },
    "tags": []
   },
   "outputs": [
    {
     "name": "stderr",
     "output_type": "stream",
     "text": [
      "C:\\Users\\omkar\\Anaconda3\\lib\\site-packages\\seaborn\\_decorators.py:36: FutureWarning: Pass the following variable as a keyword arg: x. From version 0.12, the only valid positional argument will be `data`, and passing other arguments without an explicit keyword will result in an error or misinterpretation.\n",
      "  warnings.warn(\n"
     ]
    },
    {
     "data": {
      "image/png": "[encoded data removed]",
      "text/plain": [
       "<Figure size 432x288 with 1 Axes>"
      ]
     },
     "metadata": {
      "needs_background": "light"
     },
     "output_type": "display_data"
    }
   ],
   "source": [
    "sns.boxplot(x=data['Insulin'])\n",
    "plt.show()"
   ]
  },
  {
   "cell_type": "code",
   "execution_count": 36,
   "id": "39deed51",
   "metadata": {
    "execution": {
     "iopub.execute_input": "2023-01-21T21:02:12.886009Z",
     "iopub.status.busy": "2023-01-21T21:02:12.885020Z",
     "iopub.status.idle": "2023-01-21T21:02:12.907776Z",
     "shell.execute_reply": "2023-01-21T21:02:12.906697Z"
    },
    "id": "WuQwjWSyzcVb",
    "outputId": "54efb26a-2bde-4c31-dea4-7c41358f88e8",
    "papermill": {
     "duration": 0.050693,
     "end_time": "2023-01-21T21:02:12.910311",
     "exception": false,
     "start_time": "2023-01-21T21:02:12.859618",
     "status": "completed"
    },
    "tags": []
   },
   "outputs": [
    {
     "data": {
      "text/html": [
       "<div>\n",
       "<style scoped>\n",
       "    .dataframe tbody tr th:only-of-type {\n",
       "        vertical-align: middle;\n",
       "    }\n",
       "\n",
       "    .dataframe tbody tr th {\n",
       "        vertical-align: top;\n",
       "    }\n",
       "\n",
       "    .dataframe thead th {\n",
       "        text-align: right;\n",
       "    }\n",
       "</style>\n",
       "<table border=\"1\" class=\"dataframe\">\n",
       "  <thead>\n",
       "    <tr style=\"text-align: right;\">\n",
       "      <th></th>\n",
       "      <th>Pregnancies</th>\n",
       "      <th>Glucose</th>\n",
       "      <th>BloodPressure</th>\n",
       "      <th>SkinThickness</th>\n",
       "      <th>Insulin</th>\n",
       "      <th>BMI</th>\n",
       "      <th>DiabetesPedigreeFunction</th>\n",
       "      <th>Age</th>\n",
       "      <th>Outcome</th>\n",
       "    </tr>\n",
       "  </thead>\n",
       "  <tbody>\n",
       "    <tr>\n",
       "      <th>0</th>\n",
       "      <td>6.0</td>\n",
       "      <td>148.0</td>\n",
       "      <td>72.0</td>\n",
       "      <td>35.0</td>\n",
       "      <td>0</td>\n",
       "      <td>33.6</td>\n",
       "      <td>0.627</td>\n",
       "      <td>50</td>\n",
       "      <td>1</td>\n",
       "    </tr>\n",
       "    <tr>\n",
       "      <th>1</th>\n",
       "      <td>1.0</td>\n",
       "      <td>85.0</td>\n",
       "      <td>66.0</td>\n",
       "      <td>29.0</td>\n",
       "      <td>0</td>\n",
       "      <td>26.6</td>\n",
       "      <td>0.351</td>\n",
       "      <td>31</td>\n",
       "      <td>0</td>\n",
       "    </tr>\n",
       "    <tr>\n",
       "      <th>2</th>\n",
       "      <td>8.0</td>\n",
       "      <td>183.0</td>\n",
       "      <td>64.0</td>\n",
       "      <td>NaN</td>\n",
       "      <td>0</td>\n",
       "      <td>23.3</td>\n",
       "      <td>0.672</td>\n",
       "      <td>32</td>\n",
       "      <td>1</td>\n",
       "    </tr>\n",
       "    <tr>\n",
       "      <th>5</th>\n",
       "      <td>5.0</td>\n",
       "      <td>116.0</td>\n",
       "      <td>74.0</td>\n",
       "      <td>NaN</td>\n",
       "      <td>0</td>\n",
       "      <td>25.6</td>\n",
       "      <td>0.201</td>\n",
       "      <td>30</td>\n",
       "      <td>0</td>\n",
       "    </tr>\n",
       "    <tr>\n",
       "      <th>7</th>\n",
       "      <td>10.0</td>\n",
       "      <td>115.0</td>\n",
       "      <td>NaN</td>\n",
       "      <td>NaN</td>\n",
       "      <td>0</td>\n",
       "      <td>35.3</td>\n",
       "      <td>0.134</td>\n",
       "      <td>29</td>\n",
       "      <td>0</td>\n",
       "    </tr>\n",
       "    <tr>\n",
       "      <th>...</th>\n",
       "      <td>...</td>\n",
       "      <td>...</td>\n",
       "      <td>...</td>\n",
       "      <td>...</td>\n",
       "      <td>...</td>\n",
       "      <td>...</td>\n",
       "      <td>...</td>\n",
       "      <td>...</td>\n",
       "      <td>...</td>\n",
       "    </tr>\n",
       "    <tr>\n",
       "      <th>761</th>\n",
       "      <td>9.0</td>\n",
       "      <td>170.0</td>\n",
       "      <td>74.0</td>\n",
       "      <td>31.0</td>\n",
       "      <td>0</td>\n",
       "      <td>44.0</td>\n",
       "      <td>0.403</td>\n",
       "      <td>43</td>\n",
       "      <td>1</td>\n",
       "    </tr>\n",
       "    <tr>\n",
       "      <th>762</th>\n",
       "      <td>9.0</td>\n",
       "      <td>89.0</td>\n",
       "      <td>62.0</td>\n",
       "      <td>NaN</td>\n",
       "      <td>0</td>\n",
       "      <td>22.5</td>\n",
       "      <td>0.142</td>\n",
       "      <td>33</td>\n",
       "      <td>0</td>\n",
       "    </tr>\n",
       "    <tr>\n",
       "      <th>764</th>\n",
       "      <td>2.0</td>\n",
       "      <td>122.0</td>\n",
       "      <td>70.0</td>\n",
       "      <td>27.0</td>\n",
       "      <td>0</td>\n",
       "      <td>36.8</td>\n",
       "      <td>0.340</td>\n",
       "      <td>27</td>\n",
       "      <td>0</td>\n",
       "    </tr>\n",
       "    <tr>\n",
       "      <th>766</th>\n",
       "      <td>1.0</td>\n",
       "      <td>126.0</td>\n",
       "      <td>60.0</td>\n",
       "      <td>NaN</td>\n",
       "      <td>0</td>\n",
       "      <td>30.1</td>\n",
       "      <td>0.349</td>\n",
       "      <td>47</td>\n",
       "      <td>1</td>\n",
       "    </tr>\n",
       "    <tr>\n",
       "      <th>767</th>\n",
       "      <td>1.0</td>\n",
       "      <td>93.0</td>\n",
       "      <td>70.0</td>\n",
       "      <td>31.0</td>\n",
       "      <td>0</td>\n",
       "      <td>30.4</td>\n",
       "      <td>0.315</td>\n",
       "      <td>23</td>\n",
       "      <td>0</td>\n",
       "    </tr>\n",
       "  </tbody>\n",
       "</table>\n",
       "<p>374 rows × 9 columns</p>\n",
       "</div>"
      ],
      "text/plain": [
       "     Pregnancies  Glucose  BloodPressure  SkinThickness  Insulin   BMI  \\\n",
       "0            6.0    148.0           72.0           35.0        0  33.6   \n",
       "1            1.0     85.0           66.0           29.0        0  26.6   \n",
       "2            8.0    183.0           64.0            NaN        0  23.3   \n",
       "5            5.0    116.0           74.0            NaN        0  25.6   \n",
       "7           10.0    115.0            NaN            NaN        0  35.3   \n",
       "..           ...      ...            ...            ...      ...   ...   \n",
       "761          9.0    170.0           74.0           31.0        0  44.0   \n",
       "762          9.0     89.0           62.0            NaN        0  22.5   \n",
       "764          2.0    122.0           70.0           27.0        0  36.8   \n",
       "766          1.0    126.0           60.0            NaN        0  30.1   \n",
       "767          1.0     93.0           70.0           31.0        0  30.4   \n",
       "\n",
       "     DiabetesPedigreeFunction  Age  Outcome  \n",
       "0                       0.627   50        1  \n",
       "1                       0.351   31        0  \n",
       "2                       0.672   32        1  \n",
       "5                       0.201   30        0  \n",
       "7                       0.134   29        0  \n",
       "..                        ...  ...      ...  \n",
       "761                     0.403   43        1  \n",
       "762                     0.142   33        0  \n",
       "764                     0.340   27        0  \n",
       "766                     0.349   47        1  \n",
       "767                     0.315   23        0  \n",
       "\n",
       "[374 rows x 9 columns]"
      ]
     },
     "execution_count": 36,
     "metadata": {},
     "output_type": "execute_result"
    }
   ],
   "source": [
    "data.loc[data['Insulin'] == 0 ]"
   ]
  },
  {
   "cell_type": "code",
   "execution_count": 37,
   "id": "70754966",
   "metadata": {
    "execution": {
     "iopub.execute_input": "2023-01-21T21:02:12.961379Z",
     "iopub.status.busy": "2023-01-21T21:02:12.960976Z",
     "iopub.status.idle": "2023-01-21T21:02:12.967079Z",
     "shell.execute_reply": "2023-01-21T21:02:12.966171Z"
    },
    "id": "huNHFWawzm41",
    "papermill": {
     "duration": 0.034095,
     "end_time": "2023-01-21T21:02:12.969080",
     "exception": false,
     "start_time": "2023-01-21T21:02:12.934985",
     "status": "completed"
    },
    "tags": []
   },
   "outputs": [],
   "source": [
    "data.loc[data['Insulin'] == 0 , 'Insulin'] = np.nan"
   ]
  },
  {
   "cell_type": "code",
   "execution_count": 21,
   "id": "c49c6f63",
   "metadata": {
    "execution": {
     "iopub.execute_input": "2023-01-21T21:02:13.019746Z",
     "iopub.status.busy": "2023-01-21T21:02:13.019334Z",
     "iopub.status.idle": "2023-01-21T21:02:13.195004Z",
     "shell.execute_reply": "2023-01-21T21:02:13.193871Z"
    },
    "id": "9A0GMGaGzs9B",
    "outputId": "bfb1ee81-ff36-43eb-c10f-4f60ee99d55a",
    "papermill": {
     "duration": 0.203894,
     "end_time": "2023-01-21T21:02:13.197496",
     "exception": false,
     "start_time": "2023-01-21T21:02:12.993602",
     "status": "completed"
    },
    "tags": []
   },
   "outputs": [
    {
     "name": "stderr",
     "output_type": "stream",
     "text": [
      "C:\\Users\\omkar\\Anaconda3\\lib\\site-packages\\seaborn\\_decorators.py:36: FutureWarning: Pass the following variable as a keyword arg: x. From version 0.12, the only valid positional argument will be `data`, and passing other arguments without an explicit keyword will result in an error or misinterpretation.\n",
      "  warnings.warn(\n"
     ]
    },
    {
     "data": {
      "image/png": "[encoded data removed]",
      "text/plain": [
       "<Figure size 432x288 with 1 Axes>"
      ]
     },
     "metadata": {
      "needs_background": "light"
     },
     "output_type": "display_data"
    }
   ],
   "source": [
    "sns.boxplot(x=data['Insulin'])\n",
    "plt.show()"
   ]
  },
  {
   "cell_type": "code",
   "execution_count": 39,
   "id": "1eb4af67",
   "metadata": {
    "execution": {
     "iopub.execute_input": "2023-01-21T21:02:13.248935Z",
     "iopub.status.busy": "2023-01-21T21:02:13.248482Z",
     "iopub.status.idle": "2023-01-21T21:02:13.269777Z",
     "shell.execute_reply": "2023-01-21T21:02:13.268668Z"
    },
    "id": "jgVxCyLv0Je6",
    "outputId": "dfc7be7b-c511-43aa-df5c-e6ae3afb4c2b",
    "papermill": {
     "duration": 0.049958,
     "end_time": "2023-01-21T21:02:13.272097",
     "exception": false,
     "start_time": "2023-01-21T21:02:13.222139",
     "status": "completed"
    },
    "tags": []
   },
   "outputs": [
    {
     "data": {
      "text/html": [
       "<div>\n",
       "<style scoped>\n",
       "    .dataframe tbody tr th:only-of-type {\n",
       "        vertical-align: middle;\n",
       "    }\n",
       "\n",
       "    .dataframe tbody tr th {\n",
       "        vertical-align: top;\n",
       "    }\n",
       "\n",
       "    .dataframe thead th {\n",
       "        text-align: right;\n",
       "    }\n",
       "</style>\n",
       "<table border=\"1\" class=\"dataframe\">\n",
       "  <thead>\n",
       "    <tr style=\"text-align: right;\">\n",
       "      <th></th>\n",
       "      <th>Pregnancies</th>\n",
       "      <th>Glucose</th>\n",
       "      <th>BloodPressure</th>\n",
       "      <th>SkinThickness</th>\n",
       "      <th>Insulin</th>\n",
       "      <th>BMI</th>\n",
       "      <th>DiabetesPedigreeFunction</th>\n",
       "      <th>Age</th>\n",
       "      <th>Outcome</th>\n",
       "    </tr>\n",
       "  </thead>\n",
       "  <tbody>\n",
       "    <tr>\n",
       "      <th>8</th>\n",
       "      <td>2.0</td>\n",
       "      <td>197.0</td>\n",
       "      <td>70.0</td>\n",
       "      <td>45.0</td>\n",
       "      <td>543.0</td>\n",
       "      <td>30.5</td>\n",
       "      <td>0.158</td>\n",
       "      <td>53</td>\n",
       "      <td>1</td>\n",
       "    </tr>\n",
       "    <tr>\n",
       "      <th>13</th>\n",
       "      <td>1.0</td>\n",
       "      <td>189.0</td>\n",
       "      <td>60.0</td>\n",
       "      <td>23.0</td>\n",
       "      <td>846.0</td>\n",
       "      <td>30.1</td>\n",
       "      <td>0.398</td>\n",
       "      <td>59</td>\n",
       "      <td>1</td>\n",
       "    </tr>\n",
       "    <tr>\n",
       "      <th>228</th>\n",
       "      <td>4.0</td>\n",
       "      <td>197.0</td>\n",
       "      <td>70.0</td>\n",
       "      <td>39.0</td>\n",
       "      <td>744.0</td>\n",
       "      <td>36.7</td>\n",
       "      <td>2.329</td>\n",
       "      <td>31</td>\n",
       "      <td>0</td>\n",
       "    </tr>\n",
       "    <tr>\n",
       "      <th>247</th>\n",
       "      <td>0.0</td>\n",
       "      <td>165.0</td>\n",
       "      <td>90.0</td>\n",
       "      <td>33.0</td>\n",
       "      <td>680.0</td>\n",
       "      <td>52.3</td>\n",
       "      <td>0.427</td>\n",
       "      <td>23</td>\n",
       "      <td>0</td>\n",
       "    </tr>\n",
       "    <tr>\n",
       "      <th>286</th>\n",
       "      <td>5.0</td>\n",
       "      <td>155.0</td>\n",
       "      <td>84.0</td>\n",
       "      <td>44.0</td>\n",
       "      <td>545.0</td>\n",
       "      <td>38.7</td>\n",
       "      <td>0.619</td>\n",
       "      <td>34</td>\n",
       "      <td>0</td>\n",
       "    </tr>\n",
       "    <tr>\n",
       "      <th>409</th>\n",
       "      <td>1.0</td>\n",
       "      <td>172.0</td>\n",
       "      <td>68.0</td>\n",
       "      <td>49.0</td>\n",
       "      <td>579.0</td>\n",
       "      <td>42.4</td>\n",
       "      <td>0.702</td>\n",
       "      <td>28</td>\n",
       "      <td>1</td>\n",
       "    </tr>\n",
       "    <tr>\n",
       "      <th>584</th>\n",
       "      <td>8.0</td>\n",
       "      <td>124.0</td>\n",
       "      <td>76.0</td>\n",
       "      <td>24.0</td>\n",
       "      <td>600.0</td>\n",
       "      <td>28.7</td>\n",
       "      <td>0.687</td>\n",
       "      <td>52</td>\n",
       "      <td>1</td>\n",
       "    </tr>\n",
       "    <tr>\n",
       "      <th>655</th>\n",
       "      <td>2.0</td>\n",
       "      <td>155.0</td>\n",
       "      <td>52.0</td>\n",
       "      <td>27.0</td>\n",
       "      <td>540.0</td>\n",
       "      <td>38.7</td>\n",
       "      <td>0.240</td>\n",
       "      <td>25</td>\n",
       "      <td>1</td>\n",
       "    </tr>\n",
       "    <tr>\n",
       "      <th>753</th>\n",
       "      <td>0.0</td>\n",
       "      <td>181.0</td>\n",
       "      <td>88.0</td>\n",
       "      <td>44.0</td>\n",
       "      <td>510.0</td>\n",
       "      <td>43.3</td>\n",
       "      <td>0.222</td>\n",
       "      <td>26</td>\n",
       "      <td>1</td>\n",
       "    </tr>\n",
       "  </tbody>\n",
       "</table>\n",
       "</div>"
      ],
      "text/plain": [
       "     Pregnancies  Glucose  BloodPressure  SkinThickness  Insulin   BMI  \\\n",
       "8            2.0    197.0           70.0           45.0    543.0  30.5   \n",
       "13           1.0    189.0           60.0           23.0    846.0  30.1   \n",
       "228          4.0    197.0           70.0           39.0    744.0  36.7   \n",
       "247          0.0    165.0           90.0           33.0    680.0  52.3   \n",
       "286          5.0    155.0           84.0           44.0    545.0  38.7   \n",
       "409          1.0    172.0           68.0           49.0    579.0  42.4   \n",
       "584          8.0    124.0           76.0           24.0    600.0  28.7   \n",
       "655          2.0    155.0           52.0           27.0    540.0  38.7   \n",
       "753          0.0    181.0           88.0           44.0    510.0  43.3   \n",
       "\n",
       "     DiabetesPedigreeFunction  Age  Outcome  \n",
       "8                       0.158   53        1  \n",
       "13                      0.398   59        1  \n",
       "228                     2.329   31        0  \n",
       "247                     0.427   23        0  \n",
       "286                     0.619   34        0  \n",
       "409                     0.702   28        1  \n",
       "584                     0.687   52        1  \n",
       "655                     0.240   25        1  \n",
       "753                     0.222   26        1  "
      ]
     },
     "execution_count": 39,
     "metadata": {},
     "output_type": "execute_result"
    }
   ],
   "source": [
    "data.loc[data['Insulin'] > 500]"
   ]
  },
  {
   "cell_type": "code",
   "execution_count": 40,
   "id": "26c87b15",
   "metadata": {
    "execution": {
     "iopub.execute_input": "2023-01-21T21:02:13.325753Z",
     "iopub.status.busy": "2023-01-21T21:02:13.325363Z",
     "iopub.status.idle": "2023-01-21T21:02:13.331607Z",
     "shell.execute_reply": "2023-01-21T21:02:13.330815Z"
    },
    "id": "SNE1czH70a_b",
    "papermill": {
     "duration": 0.03633,
     "end_time": "2023-01-21T21:02:13.333804",
     "exception": false,
     "start_time": "2023-01-21T21:02:13.297474",
     "status": "completed"
    },
    "tags": []
   },
   "outputs": [],
   "source": [
    "data.loc[data['Insulin'] > 500 , 'Insulin'] = np.nan"
   ]
  },
  {
   "cell_type": "code",
   "execution_count": 22,
   "id": "129d76db",
   "metadata": {
    "execution": {
     "iopub.execute_input": "2023-01-21T21:02:13.386304Z",
     "iopub.status.busy": "2023-01-21T21:02:13.385250Z",
     "iopub.status.idle": "2023-01-21T21:02:13.593028Z",
     "shell.execute_reply": "2023-01-21T21:02:13.592216Z"
    },
    "id": "XjuwghjX0ehx",
    "outputId": "9588e8b0-fec4-4f85-8381-cf1d8728ee2d",
    "papermill": {
     "duration": 0.236273,
     "end_time": "2023-01-21T21:02:13.595326",
     "exception": false,
     "start_time": "2023-01-21T21:02:13.359053",
     "status": "completed"
    },
    "tags": []
   },
   "outputs": [
    {
     "data": {
      "image/png": "[encoded data removed]",
      "text/plain": [
       "<Figure size 432x288 with 1 Axes>"
      ]
     },
     "metadata": {
      "needs_background": "light"
     },
     "output_type": "display_data"
    }
   ],
   "source": [
    "sns.histplot(data['Insulin'])\n",
    "plt.show()"
   ]
  },
  {
   "cell_type": "markdown",
   "id": "66b9efbe",
   "metadata": {
    "id": "krC3qo1Z0kol",
    "papermill": {
     "duration": 0.02451,
     "end_time": "2023-01-21T21:02:13.645121",
     "exception": false,
     "start_time": "2023-01-21T21:02:13.620611",
     "status": "completed"
    },
    "tags": []
   },
   "source": [
    "**For the attribute 'BMI'**"
   ]
  },
  {
   "cell_type": "code",
   "execution_count": 23,
   "id": "8f1ea7ea",
   "metadata": {
    "execution": {
     "iopub.execute_input": "2023-01-21T21:02:13.698812Z",
     "iopub.status.busy": "2023-01-21T21:02:13.697745Z",
     "iopub.status.idle": "2023-01-21T21:02:13.971171Z",
     "shell.execute_reply": "2023-01-21T21:02:13.970005Z"
    },
    "id": "-ufeDEuu0n7F",
    "outputId": "71188824-46e9-4ca2-a470-2fdb31958cec",
    "papermill": {
     "duration": 0.302734,
     "end_time": "2023-01-21T21:02:13.973576",
     "exception": false,
     "start_time": "2023-01-21T21:02:13.670842",
     "status": "completed"
    },
    "tags": []
   },
   "outputs": [
    {
     "data": {
      "image/png": "[encoded data removed]",
      "text/plain": [
       "<Figure size 432x288 with 1 Axes>"
      ]
     },
     "metadata": {
      "needs_background": "light"
     },
     "output_type": "display_data"
    }
   ],
   "source": [
    "sns.histplot(data['BMI'])\n",
    "plt.show()"
   ]
  },
  {
   "cell_type": "code",
   "execution_count": 43,
   "id": "c3fb7a75",
   "metadata": {
    "execution": {
     "iopub.execute_input": "2023-01-21T21:02:14.026740Z",
     "iopub.status.busy": "2023-01-21T21:02:14.026101Z",
     "iopub.status.idle": "2023-01-21T21:02:14.032207Z",
     "shell.execute_reply": "2023-01-21T21:02:14.031305Z"
    },
    "id": "vSjo90110qFJ",
    "papermill": {
     "duration": 0.034845,
     "end_time": "2023-01-21T21:02:14.034412",
     "exception": false,
     "start_time": "2023-01-21T21:02:13.999567",
     "status": "completed"
    },
    "tags": []
   },
   "outputs": [],
   "source": [
    "data.loc[data['BMI'] == 0 , 'BMI'] = np.nan"
   ]
  },
  {
   "cell_type": "code",
   "execution_count": 24,
   "id": "f1eee968",
   "metadata": {
    "execution": {
     "iopub.execute_input": "2023-01-21T21:02:14.088653Z",
     "iopub.status.busy": "2023-01-21T21:02:14.087973Z",
     "iopub.status.idle": "2023-01-21T21:02:14.259781Z",
     "shell.execute_reply": "2023-01-21T21:02:14.258984Z"
    },
    "id": "5nEixLa30t6z",
    "outputId": "fcaff097-878d-44b2-d74d-34e379ecf3d2",
    "papermill": {
     "duration": 0.201391,
     "end_time": "2023-01-21T21:02:14.261964",
     "exception": false,
     "start_time": "2023-01-21T21:02:14.060573",
     "status": "completed"
    },
    "tags": []
   },
   "outputs": [
    {
     "name": "stderr",
     "output_type": "stream",
     "text": [
      "C:\\Users\\omkar\\Anaconda3\\lib\\site-packages\\seaborn\\_decorators.py:36: FutureWarning: Pass the following variable as a keyword arg: x. From version 0.12, the only valid positional argument will be `data`, and passing other arguments without an explicit keyword will result in an error or misinterpretation.\n",
      "  warnings.warn(\n"
     ]
    },
    {
     "data": {
      "image/png": "[encoded data removed]",
      "text/plain": [
       "<Figure size 432x288 with 1 Axes>"
      ]
     },
     "metadata": {
      "needs_background": "light"
     },
     "output_type": "display_data"
    }
   ],
   "source": [
    "sns.boxplot(x=data['BMI'])\n",
    "plt.show()"
   ]
  },
  {
   "cell_type": "code",
   "execution_count": 45,
   "id": "ea99e9ec",
   "metadata": {
    "execution": {
     "iopub.execute_input": "2023-01-21T21:02:14.317490Z",
     "iopub.status.busy": "2023-01-21T21:02:14.316813Z",
     "iopub.status.idle": "2023-01-21T21:02:14.331482Z",
     "shell.execute_reply": "2023-01-21T21:02:14.330372Z"
    },
    "id": "lFl9V0f800k7",
    "outputId": "2b9c9f3a-ca2c-410e-c667-360336dac2ff",
    "papermill": {
     "duration": 0.045892,
     "end_time": "2023-01-21T21:02:14.333698",
     "exception": false,
     "start_time": "2023-01-21T21:02:14.287806",
     "status": "completed"
    },
    "tags": []
   },
   "outputs": [
    {
     "data": {
      "text/html": [
       "<div>\n",
       "<style scoped>\n",
       "    .dataframe tbody tr th:only-of-type {\n",
       "        vertical-align: middle;\n",
       "    }\n",
       "\n",
       "    .dataframe tbody tr th {\n",
       "        vertical-align: top;\n",
       "    }\n",
       "\n",
       "    .dataframe thead th {\n",
       "        text-align: right;\n",
       "    }\n",
       "</style>\n",
       "<table border=\"1\" class=\"dataframe\">\n",
       "  <thead>\n",
       "    <tr style=\"text-align: right;\">\n",
       "      <th></th>\n",
       "      <th>Pregnancies</th>\n",
       "      <th>Glucose</th>\n",
       "      <th>BloodPressure</th>\n",
       "      <th>SkinThickness</th>\n",
       "      <th>Insulin</th>\n",
       "      <th>BMI</th>\n",
       "      <th>DiabetesPedigreeFunction</th>\n",
       "      <th>Age</th>\n",
       "      <th>Outcome</th>\n",
       "    </tr>\n",
       "  </thead>\n",
       "  <tbody>\n",
       "    <tr>\n",
       "      <th>177</th>\n",
       "      <td>0.0</td>\n",
       "      <td>129.0</td>\n",
       "      <td>110.0</td>\n",
       "      <td>46.0</td>\n",
       "      <td>130.0</td>\n",
       "      <td>67.1</td>\n",
       "      <td>0.319</td>\n",
       "      <td>26</td>\n",
       "      <td>1</td>\n",
       "    </tr>\n",
       "  </tbody>\n",
       "</table>\n",
       "</div>"
      ],
      "text/plain": [
       "     Pregnancies  Glucose  BloodPressure  SkinThickness  Insulin   BMI  \\\n",
       "177          0.0    129.0          110.0           46.0    130.0  67.1   \n",
       "\n",
       "     DiabetesPedigreeFunction  Age  Outcome  \n",
       "177                     0.319   26        1  "
      ]
     },
     "execution_count": 45,
     "metadata": {},
     "output_type": "execute_result"
    }
   ],
   "source": [
    "data.loc[data['BMI'] > 60]"
   ]
  },
  {
   "cell_type": "markdown",
   "id": "1a552d81",
   "metadata": {
    "id": "FJ5bCZPP0_O6",
    "papermill": {
     "duration": 0.025657,
     "end_time": "2023-01-21T21:02:14.386332",
     "exception": false,
     "start_time": "2023-01-21T21:02:14.360675",
     "status": "completed"
    },
    "tags": []
   },
   "source": [
    "**For the attribute 'DiabetesPedigreeFunction'**"
   ]
  },
  {
   "cell_type": "code",
   "execution_count": 25,
   "id": "08b24778",
   "metadata": {
    "execution": {
     "iopub.execute_input": "2023-01-21T21:02:14.441211Z",
     "iopub.status.busy": "2023-01-21T21:02:14.440494Z",
     "iopub.status.idle": "2023-01-21T21:02:14.719815Z",
     "shell.execute_reply": "2023-01-21T21:02:14.718303Z"
    },
    "id": "33rACt6x1EGK",
    "outputId": "bdac32be-b831-40da-cd35-eaec3c2a72ff",
    "papermill": {
     "duration": 0.309711,
     "end_time": "2023-01-21T21:02:14.722412",
     "exception": false,
     "start_time": "2023-01-21T21:02:14.412701",
     "status": "completed"
    },
    "tags": []
   },
   "outputs": [
    {
     "data": {
      "image/png": "[encoded data removed]",
      "text/plain": [
       "<Figure size 432x288 with 1 Axes>"
      ]
     },
     "metadata": {
      "needs_background": "light"
     },
     "output_type": "display_data"
    }
   ],
   "source": [
    "sns.histplot(data['DiabetesPedigreeFunction'])\n",
    "plt.show()"
   ]
  },
  {
   "cell_type": "code",
   "execution_count": 26,
   "id": "67648b22",
   "metadata": {
    "execution": {
     "iopub.execute_input": "2023-01-21T21:02:14.778021Z",
     "iopub.status.busy": "2023-01-21T21:02:14.777558Z",
     "iopub.status.idle": "2023-01-21T21:02:14.963523Z",
     "shell.execute_reply": "2023-01-21T21:02:14.962488Z"
    },
    "id": "qS8pjO7Z1J-D",
    "outputId": "4f0c4291-18a0-4487-890a-ceba41966636",
    "papermill": {
     "duration": 0.215874,
     "end_time": "2023-01-21T21:02:14.965769",
     "exception": false,
     "start_time": "2023-01-21T21:02:14.749895",
     "status": "completed"
    },
    "tags": []
   },
   "outputs": [
    {
     "name": "stderr",
     "output_type": "stream",
     "text": [
      "C:\\Users\\omkar\\Anaconda3\\lib\\site-packages\\seaborn\\_decorators.py:36: FutureWarning: Pass the following variable as a keyword arg: x. From version 0.12, the only valid positional argument will be `data`, and passing other arguments without an explicit keyword will result in an error or misinterpretation.\n",
      "  warnings.warn(\n"
     ]
    },
    {
     "data": {
      "image/png": "[encoded data removed]",
      "text/plain": [
       "<Figure size 432x288 with 1 Axes>"
      ]
     },
     "metadata": {
      "needs_background": "light"
     },
     "output_type": "display_data"
    }
   ],
   "source": [
    "sns.boxplot(x=data['DiabetesPedigreeFunction'])\n",
    "plt.show()"
   ]
  },
  {
   "cell_type": "markdown",
   "id": "015cdb5a",
   "metadata": {
    "id": "pmcSPGkj1fjp",
    "papermill": {
     "duration": 0.026994,
     "end_time": "2023-01-21T21:02:15.019600",
     "exception": false,
     "start_time": "2023-01-21T21:02:14.992606",
     "status": "completed"
    },
    "tags": []
   },
   "source": [
    "**For the attribute 'Age'**"
   ]
  },
  {
   "cell_type": "code",
   "execution_count": 27,
   "id": "057f2e80",
   "metadata": {
    "execution": {
     "iopub.execute_input": "2023-01-21T21:02:15.076072Z",
     "iopub.status.busy": "2023-01-21T21:02:15.075634Z",
     "iopub.status.idle": "2023-01-21T21:02:15.279263Z",
     "shell.execute_reply": "2023-01-21T21:02:15.278115Z"
    },
    "id": "zi0y7her1jZo",
    "outputId": "96025d92-eb11-4f06-e58f-d7ce113451bd",
    "papermill": {
     "duration": 0.234873,
     "end_time": "2023-01-21T21:02:15.281644",
     "exception": false,
     "start_time": "2023-01-21T21:02:15.046771",
     "status": "completed"
    },
    "tags": []
   },
   "outputs": [
    {
     "data": {
      "image/png": "[encoded data removed]",
      "text/plain": [
       "<Figure size 432x288 with 1 Axes>"
      ]
     },
     "metadata": {
      "needs_background": "light"
     },
     "output_type": "display_data"
    }
   ],
   "source": [
    "sns.histplot(data['Age'])\n",
    "plt.show()"
   ]
  },
  {
   "cell_type": "code",
   "execution_count": 28,
   "id": "6463fe03",
   "metadata": {
    "execution": {
     "iopub.execute_input": "2023-01-21T21:02:15.339741Z",
     "iopub.status.busy": "2023-01-21T21:02:15.339325Z",
     "iopub.status.idle": "2023-01-21T21:02:15.520290Z",
     "shell.execute_reply": "2023-01-21T21:02:15.519372Z"
    },
    "id": "UNwc0aDd1lcS",
    "outputId": "c98d15c6-2fe1-430a-c2fc-f3f4809e5a39",
    "papermill": {
     "duration": 0.212849,
     "end_time": "2023-01-21T21:02:15.522393",
     "exception": false,
     "start_time": "2023-01-21T21:02:15.309544",
     "status": "completed"
    },
    "tags": []
   },
   "outputs": [
    {
     "name": "stderr",
     "output_type": "stream",
     "text": [
      "C:\\Users\\omkar\\Anaconda3\\lib\\site-packages\\seaborn\\_decorators.py:36: FutureWarning: Pass the following variable as a keyword arg: x. From version 0.12, the only valid positional argument will be `data`, and passing other arguments without an explicit keyword will result in an error or misinterpretation.\n",
      "  warnings.warn(\n"
     ]
    },
    {
     "data": {
      "image/png": "[encoded data removed]",
      "text/plain": [
       "<Figure size 432x288 with 1 Axes>"
      ]
     },
     "metadata": {
      "needs_background": "light"
     },
     "output_type": "display_data"
    }
   ],
   "source": [
    "sns.boxplot(x=data['Age'])\n",
    "plt.show()"
   ]
  },
  {
   "cell_type": "markdown",
   "id": "a1e0b536",
   "metadata": {
    "id": "IsRFgSup1tfL",
    "papermill": {
     "duration": 0.026981,
     "end_time": "2023-01-21T21:02:15.576852",
     "exception": false,
     "start_time": "2023-01-21T21:02:15.549871",
     "status": "completed"
    },
    "tags": []
   },
   "source": [
    "**Outcome**"
   ]
  },
  {
   "cell_type": "code",
   "execution_count": 29,
   "id": "5df94b45",
   "metadata": {
    "execution": {
     "iopub.execute_input": "2023-01-21T21:02:15.632776Z",
     "iopub.status.busy": "2023-01-21T21:02:15.632037Z",
     "iopub.status.idle": "2023-01-21T21:02:15.812149Z",
     "shell.execute_reply": "2023-01-21T21:02:15.810889Z"
    },
    "id": "SgK3psv21sZT",
    "outputId": "fb45d558-915c-4c8d-d7e5-e2a0006bfbfd",
    "papermill": {
     "duration": 0.21073,
     "end_time": "2023-01-21T21:02:15.814508",
     "exception": false,
     "start_time": "2023-01-21T21:02:15.603778",
     "status": "completed"
    },
    "tags": []
   },
   "outputs": [
    {
     "name": "stderr",
     "output_type": "stream",
     "text": [
      "C:\\Users\\omkar\\Anaconda3\\lib\\site-packages\\seaborn\\_decorators.py:36: FutureWarning: Pass the following variable as a keyword arg: x. From version 0.12, the only valid positional argument will be `data`, and passing other arguments without an explicit keyword will result in an error or misinterpretation.\n",
      "  warnings.warn(\n"
     ]
    },
    {
     "data": {
      "image/png": "[encoded data removed]",
      "text/plain": [
       "<Figure size 432x288 with 1 Axes>"
      ]
     },
     "metadata": {
      "needs_background": "light"
     },
     "output_type": "display_data"
    }
   ],
   "source": [
    "sns.countplot(x=data['Outcome'])\n",
    "plt.show()"
   ]
  },
  {
   "cell_type": "markdown",
   "id": "7782db1a",
   "metadata": {
    "id": "fZ9r35cZ3Cuo",
    "papermill": {
     "duration": 0.028082,
     "end_time": "2023-01-21T21:02:15.870450",
     "exception": false,
     "start_time": "2023-01-21T21:02:15.842368",
     "status": "completed"
    },
    "tags": []
   },
   "source": [
    "# Correlation"
   ]
  },
  {
   "cell_type": "code",
   "execution_count": 51,
   "id": "91bcfd64",
   "metadata": {
    "execution": {
     "iopub.execute_input": "2023-01-21T21:02:15.928439Z",
     "iopub.status.busy": "2023-01-21T21:02:15.927627Z",
     "iopub.status.idle": "2023-01-21T21:02:16.503990Z",
     "shell.execute_reply": "2023-01-21T21:02:16.502818Z"
    },
    "id": "cnsK5s2l11Ha",
    "outputId": "ee37cee7-9ee0-4f64-d33e-43ac5151d03a",
    "papermill": {
     "duration": 0.608594,
     "end_time": "2023-01-21T21:02:16.506652",
     "exception": false,
     "start_time": "2023-01-21T21:02:15.898058",
     "status": "completed"
    },
    "tags": []
   },
   "outputs": [
    {
     "name": "stderr",
     "output_type": "stream",
     "text": [
      "/opt/conda/lib/python3.7/site-packages/ipykernel_launcher.py:2: DeprecationWarning: `np.bool` is a deprecated alias for the builtin `bool`. To silence this warning, use `bool` by itself. Doing this will not modify any behavior and is safe. If you specifically wanted the numpy scalar type, use `np.bool_` here.\n",
      "Deprecated in NumPy 1.20; for more details and guidance: https://numpy.org/devdocs/release/1.20.0-notes.html#deprecations\n",
      "  \n"
     ]
    },
    {
     "data": {
      "image/png": "[encoded data removed]",
      "text/plain": [
       "<Figure size 1152x432 with 2 Axes>"
      ]
     },
     "metadata": {
      "needs_background": "light"
     },
     "output_type": "display_data"
    }
   ],
   "source": [
    "plt.figure(figsize=(16, 6))\n",
    "mask = np.triu(np.ones_like(data.corr(), dtype=np.bool))\n",
    "heatmap = sns.heatmap(data.corr(), mask=mask, vmin=-1, vmax=1, annot=True, cmap='BrBG')\n",
    "heatmap.set_title('Correlation', fontdict={'fontsize':18}, pad=16);"
   ]
  }
 ],
 "metadata": {
  "kernelspec": {
   "display_name": "Python 3",
   "language": "python",
   "name": "python3"
  },
  "language_info": {
   "codemirror_mode": {
    "name": "ipython",
    "version": 3
   },
   "file_extension": ".py",
   "mimetype": "text/x-python",
   "name": "python",
   "nbconvert_exporter": "python",
   "pygments_lexer": "ipython3",
   "version": "3.8.8"
  },
  "papermill": {
   "default_parameters": {},
   "duration": 25.987466,
   "end_time": "2023-01-21T21:02:23.564851",
   "environment_variables": {},
   "exception": null,
   "input_path": "__notebook__.ipynb",
   "output_path": "__notebook__.ipynb",
   "parameters": {},
   "start_time": "2023-01-21T21:01:57.577385",
   "version": "2.3.4"
  }
 },
 "nbformat": 4,
 "nbformat_minor": 5
}
